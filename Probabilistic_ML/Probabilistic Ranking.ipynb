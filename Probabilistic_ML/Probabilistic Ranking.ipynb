{
 "cells": [
  {
   "cell_type": "code",
   "execution_count": 82,
   "metadata": {},
   "outputs": [],
   "source": [
    "import numpy as np\n",
    "import pandas as pd\n",
    "import scipy\n",
    "import sklearn\n",
    "import scipy as s\n",
    "from IPython.display import display\n",
    "import matplotlib.pyplot as plt"
   ]
  },
  {
   "cell_type": "markdown",
   "metadata": {},
   "source": [
    "# Table of Contents"
   ]
  },
  {
   "cell_type": "markdown",
   "metadata": {},
   "source": [
    "# Introduction"
   ]
  },
  {
   "cell_type": "markdown",
   "metadata": {},
   "source": [
    "Ranking systems have many different applications, however most common ones are poor as they rely on arbitrary conventions which lead to poor proformance. In general, they try to answer they question **What is the probability that player 1 defeats player 2?**. In order to determine this probabilistically, there are a number of things to consider:\n",
    "\n",
    "- Considers who you played against.\n",
    "- Must be robust against players who have not played against eachother.\n",
    "- Give a good estimate at any point in the season.\n",
    "- Take into account performance inconsistancy.\n",
    "\n",
    "Therefore, what we want to infer is the player's **skill**, $w$. These skills must be comparable (i.e. a player with a higher skill must be more likely to win), and as such we want to do a probabilstic inference of a player's skill and be able to compute the probability of a game's outcome."
   ]
  },
  {
   "cell_type": "markdown",
   "metadata": {},
   "source": [
    "### A generative model for skill\n",
    "\n",
    "A summary of a generative model for game outcomes can be defined as:\n",
    "\n",
    "1. **Skills** Take two players with known skills, $$w_i \\in \\mathbb{R}$$\n",
    "2. **Skill Difference**: $$s = w_1 - w_2$$\n",
    "3. **Performance Difference**: Add noise ($n \\sim \\mathcal{N}(0, 1))$ to account for performance inconsistance: $$t = s + n$$\n",
    "4. **Game outcome** is given by $y=sign(t)$:\n",
    "    - $y = +1$ means player 1 wins\n",
    "    - $y = -1$ means player 2 wins"
   ]
  },
  {
   "cell_type": "markdown",
   "metadata": {},
   "source": [
    "![FactorGraph](Figures/FactorGraph.jpg)"
   ]
  },
  {
   "cell_type": "markdown",
   "metadata": {},
   "source": [
    "### The probability of a player winning given their skills\n",
    "    \n",
    "Therefore we can work out the probability that player 1 wins given the players skills':\n",
    "\n",
    "$$p(y| w_1, w_2) = \\int \\int p(y|t) p(t|s) p(s | w_1, w_2) dsdt$$\n",
    "$$ = \\int p(y|t) p(t|w_1, w_2) dt$$\n",
    "$$ = \\int^{+\\infty}_{-\\infty} \\delta(y - sign(t)) \\mathcal{N}(t; w_1 - w_2, 1) dt$$\n",
    "$$ = \\int^{+\\infty}_{-\\infty} \\delta(1 - sign(yt)) \\mathcal{N}(yt; y(w_1 - w_2), 1) dt $$\n",
    "set z = yt and note the change in limits and dt:\n",
    "$$ = \\int^{+y\\infty}_{-y\\infty} \\delta(1 - sign(z)) \\mathcal{N}(z; y(w_1 - w_2), 1) y dz $$\n",
    "$$ = \\int^{+\\infty}_{-\\infty} \\delta(1 -sign(z)) \\mathcal{N}(z; y(w_1 - w_2), 1) dz $$\n",
    "And rearrange the limits:\n",
    "$$ = \\int^{+\\infty}_{0} \\mathcal{N}(z; y(w_1 - w_2), 1) dz $$\n",
    "using $x = y(w_1-w_2) - z$\n",
    "$$ = \\int^{y(w_1 - w_2)}_{-\\infty} \\mathcal{N}(x; 0, 1) dx $$\n",
    "$$ = \\Phi(y(w_1 - w_2))$$\n",
    "\n",
    "where $\\Phi(a)$ is the gaussian c.d.f, or the *probit* function.\n",
    "\n",
    "For the probability of player 1 winning, we simply use $p(y=1| w_1, w_2) = p(t>0| w_1, w_2) = \\Phi(w_1 - w_2)$"
   ]
  },
  {
   "cell_type": "markdown",
   "metadata": {},
   "source": [
    "![PerformanceDifference](Figures/PerformanceDifference.jpg)"
   ]
  },
  {
   "cell_type": "markdown",
   "metadata": {},
   "source": [
    "### Computing the skills (the posterior)\n",
    "\n",
    "$$p(w_1, w_2 | y) = \\frac{Priors \\times Likelihood}{Evidence}$$\n",
    "<br>\n",
    "$$ = \\frac{p(w_1)p(w_2) \\times p(y|w_1, w_2)}{\\int \\int p(w_1)p(w_2) \\times p(y|w_1, w_2) dw_1 dw_2}$$\n",
    "<br>\n",
    "$$ = \\frac{\\mathcal{N}(w_1; \\mu_1, \\sigma_1^2) \\mathcal{N}(w_2; \\mu_2, \\sigma_2^2) \\times \\Phi(y(w_1 - w_2))}{\\int \\int \\mathcal{N}(w_1; \\mu_1, \\sigma_1^2) \\mathcal{N}(w_2; \\mu_2, \\sigma_2^2) \\times \\Phi(y(w_1 - w_2)) dw_1 dw_2}$$\n",
    "\n",
    "The joint posterior over skills does not have a closed form as the probit function is not closed. Additionally, $w_1$ and $w_2$ have become correlated due to the priors and therefore does not factorise, nor is it a gaussian density function.\n",
    "\n",
    "Fortunately, the evidence does have a closed form:\n",
    "\n",
    "$$p(y) = \\int \\int \\mathcal{N}(w_1; \\mu_1, \\sigma_1^2) \\mathcal{N}(w_2; \\mu_2, \\sigma_2^2) \\times \\Phi(y(w_1 - w_2)) dw_1 dw_2 = \\Phi \\bigg(\\frac{y(\\mu_1 - \\mu_2)}{\\sqrt{1 + \\sigma_1^2 + \\sigma_2^2}} \\bigg)$$\n",
    "\n",
    "This is effectively a smoother version of the likelihood as we are using mean skills of each player, and normalising over their variances."
   ]
  },
  {
   "cell_type": "markdown",
   "metadata": {},
   "source": [
    "### Computing the Conditionals\n",
    "\n",
    "For notation we have have $g = \\{1, ..., G\\}$ games where $I_g$ is the id of player 1, and $J_g$ is the id of player 1. The outcome of game g is:\n",
    "\n",
    "$$y_g = \\bigg{\\{} \\begin{array}{c} +1 \\; if \\; I_g \\; wins \\\\ -1 \\; if \\; J_g \\; wins \\end{array}$$\n",
    "\n",
    "Note also that the vector of skills is $\\boldsymbol{w} = [w_1, ..., w_d]^T$, (d=107 players) and the vector of performance differences is $\\boldsymbol{t} = [t_1, ..., t_G]^T$.\n",
    "\n",
    "In **True Skill** the joint distribution $p(w_{1:d}, t_{1:G})$ is intractable. However, the two conditionals are tractable and easily derived to be:\n",
    "\n",
    "- **Performance given skill difference**: $p(t_g | w_{I_g}, w_{J_g}, y_g) \\propto \\delta(y_g - sign(t_g)) \\mathcal{N}(t_g;  w_{I_g} - w_{J_g}, 1)$\n",
    "- **Skills given performances**: $p( \\boldsymbol{w} | \\boldsymbol{t}, \\boldsymbol{y}) = p( \\boldsymbol{w} | \\boldsymbol{t}) \\propto p(\\boldsymbol {w}; \\boldsymbol{\\mu}_0, \\Sigma_0) \\prod_{g=1}^G \\mathcal{N}(\\boldsymbol{w}; \\boldsymbol{\\mu}_g, \\Sigma_g)$\n",
    "\n",
    "In order to calculate these, we can take the performance difference directly from the derivation of the evidence:\n",
    "\n",
    "$$p(t | w_1, w_2, y) = p(y|t) p(t|w_1, w_2) = \\delta(y - sign(t)) \\mathcal{N}(t; w_1 - w_2, 1) dt$$\n",
    "\n",
    "and similarly, we note that the priors for skill are $p(w_i) = \\mathcal{N}(w_i | u_i, \\sigma_i^2) \\implies p(\\boldsymbol{w}) = \\prod_{i=1}^d p(w_i) = \\mathcal{N}(\\boldsymbol{w} ; \\boldsymbol{\\mu}_0, \\Sigma_0)$. Thus,\n",
    "\n",
    "$$p( \\boldsymbol{w} | \\boldsymbol{t}) = \\frac{p(\\boldsymbol{w})p(\\boldsymbol{t}| \\boldsymbol{w})}{p(\\boldsymbol{t})} \\propto p(\\boldsymbol{w}) \\prod_{g=1}^G p(t_g | w_{I_g}, w_{J_g}) = \\mathcal{N}(\\boldsymbol{w} ; \\boldsymbol{\\mu}_0, \\Sigma_0) \\prod_{g=1}^G \\mathcal{N}(\\boldsymbol{w}; \\boldsymbol{\\mu}_g, \\Sigma_g)\n",
    "$$"
   ]
  },
  {
   "cell_type": "markdown",
   "metadata": {},
   "source": [
    "# Load the Data"
   ]
  },
  {
   "cell_type": "code",
   "execution_count": 2,
   "metadata": {},
   "outputs": [],
   "source": [
    "import scipy.io\n",
    "mat = scipy.io.loadmat('tennis_data.mat')"
   ]
  },
  {
   "cell_type": "code",
   "execution_count": 245,
   "metadata": {},
   "outputs": [
    {
     "data": {
      "text/html": [
       "<div>\n",
       "<style scoped>\n",
       "    .dataframe tbody tr th:only-of-type {\n",
       "        vertical-align: middle;\n",
       "    }\n",
       "\n",
       "    .dataframe tbody tr th {\n",
       "        vertical-align: top;\n",
       "    }\n",
       "\n",
       "    .dataframe thead th {\n",
       "        text-align: right;\n",
       "    }\n",
       "</style>\n",
       "<table border=\"1\" class=\"dataframe\">\n",
       "  <thead>\n",
       "    <tr style=\"text-align: right;\">\n",
       "      <th></th>\n",
       "      <th>name</th>\n",
       "    </tr>\n",
       "  </thead>\n",
       "  <tbody>\n",
       "    <tr>\n",
       "      <th>0</th>\n",
       "      <td>Rafael-Nadal</td>\n",
       "    </tr>\n",
       "    <tr>\n",
       "      <th>1</th>\n",
       "      <td>Juan-Monaco</td>\n",
       "    </tr>\n",
       "    <tr>\n",
       "      <th>2</th>\n",
       "      <td>Juan-Martin-Del-Potro</td>\n",
       "    </tr>\n",
       "    <tr>\n",
       "      <th>3</th>\n",
       "      <td>Mardy-Fish</td>\n",
       "    </tr>\n",
       "    <tr>\n",
       "      <th>4</th>\n",
       "      <td>Roger-Federer</td>\n",
       "    </tr>\n",
       "  </tbody>\n",
       "</table>\n",
       "</div>"
      ],
      "text/plain": [
       "                    name\n",
       "0           Rafael-Nadal\n",
       "1            Juan-Monaco\n",
       "2  Juan-Martin-Del-Potro\n",
       "3             Mardy-Fish\n",
       "4          Roger-Federer"
      ]
     },
     "metadata": {},
     "output_type": "display_data"
    },
    {
     "data": {
      "text/html": [
       "<div>\n",
       "<style scoped>\n",
       "    .dataframe tbody tr th:only-of-type {\n",
       "        vertical-align: middle;\n",
       "    }\n",
       "\n",
       "    .dataframe tbody tr th {\n",
       "        vertical-align: top;\n",
       "    }\n",
       "\n",
       "    .dataframe thead th {\n",
       "        text-align: right;\n",
       "    }\n",
       "</style>\n",
       "<table border=\"1\" class=\"dataframe\">\n",
       "  <thead>\n",
       "    <tr style=\"text-align: right;\">\n",
       "      <th></th>\n",
       "      <th>winner</th>\n",
       "      <th>loser</th>\n",
       "    </tr>\n",
       "  </thead>\n",
       "  <tbody>\n",
       "    <tr>\n",
       "      <th>0</th>\n",
       "      <td>0</td>\n",
       "      <td>1</td>\n",
       "    </tr>\n",
       "    <tr>\n",
       "      <th>1</th>\n",
       "      <td>0</td>\n",
       "      <td>2</td>\n",
       "    </tr>\n",
       "    <tr>\n",
       "      <th>2</th>\n",
       "      <td>0</td>\n",
       "      <td>2</td>\n",
       "    </tr>\n",
       "    <tr>\n",
       "      <th>3</th>\n",
       "      <td>0</td>\n",
       "      <td>2</td>\n",
       "    </tr>\n",
       "    <tr>\n",
       "      <th>4</th>\n",
       "      <td>0</td>\n",
       "      <td>2</td>\n",
       "    </tr>\n",
       "  </tbody>\n",
       "</table>\n",
       "</div>"
      ],
      "text/plain": [
       "   winner  loser\n",
       "0       0      1\n",
       "1       0      2\n",
       "2       0      2\n",
       "3       0      2\n",
       "4       0      2"
      ]
     },
     "metadata": {},
     "output_type": "display_data"
    },
    {
     "data": {
      "text/plain": [
       "107"
      ]
     },
     "metadata": {},
     "output_type": "display_data"
    },
    {
     "data": {
      "text/plain": [
       "1801"
      ]
     },
     "metadata": {},
     "output_type": "display_data"
    }
   ],
   "source": [
    "PLAYERS = pd.DataFrame(mat['W'], columns=['name']).applymap(lambda x: x[0])  # remove the list around each players name\n",
    "GAMES = pd.DataFrame(mat['G']-1, columns=['winner', 'loser'])  # -1 because player num starts from 1 in matlab\n",
    "display(PLAYERS.head(), GAMES.head())\n",
    "display(len(PLAYERS), len(GAMES))"
   ]
  },
  {
   "cell_type": "markdown",
   "metadata": {},
   "source": [
    "# Gibbs Rank"
   ]
  },
  {
   "cell_type": "markdown",
   "metadata": {},
   "source": [
    "### Integration of an Intractable Posterior"
   ]
  },
  {
   "cell_type": "markdown",
   "metadata": {},
   "source": [
    "The basis of Monte-Carlo approximation is:\n",
    "$$\\mathbb{E}_{p(x)} \\big[ \\Phi(x) \\big] \\approx \\hat{\\Phi} = \\frac{1}{T} \\sum^t_{\\tau = 1} \\Phi(x^{(\\tau)}), \\text{  where } x^{(\\tau)} \\sim p(x)$$\n",
    "\n",
    "Note that $x^{(\\tau)}$ is the $\\tau$th d-dimensional sample from the distribution p(x), which is analytically intractable (and typically d>>1).\n",
    "\n",
    "This is infact an unbiased estimate, with $Var[\\hat{\\Phi}] = \\frac{Var[\\Phi]}{T}$. Note $Var[\\Phi] = \\int (\\Phi(x) - \\mathbb{E}[\\Phi])^2 p(x) dx$. Note that this is independent of dimension d, of x.\n",
    "\n",
    "\n",
    "How do we generate samples from p(x)? If the distribution has a standard form then we could generate independent samples, however, it is often difficult to sample from this joint distribution if it is within a high dimensional space (the curse of dimensionality). In order to get around this we can use **Gibbs Sampling**, which uses a Markov Chain to generate dependent samples from the desired distribution:\n",
    "\n",
    "$$x_i' \\sim  p(x_i | x_{1, 2, ..., i-1, i+1, ..., d})$$"
   ]
  },
  {
   "cell_type": "markdown",
   "metadata": {},
   "source": [
    "### Gibbs Sampling"
   ]
  },
  {
   "cell_type": "markdown",
   "metadata": {},
   "source": [
    "Gibbs sampling assumes that we know the forms of the joint and conditional distributions. Given that $p(x, y) \\propto p(x|y)$, we can thus sample from the conditional distributions. E.g. A number of experiments, k, are performed where we flip a coin n times (unknown). The coin is biased such that $p(heads) = \\theta$.\n",
    "\n",
    "- $n \\sim U(5, 8)$\n",
    "- $\\theta \\sim U(0, 1) = beta(1, 1)$\n",
    "\n",
    "This gives us a sequence with the number of heads that were thrown: $X = (x_1, x_2, .., x_k)$. We are aiming to find $p(n, \\theta | X) \\propto p(X | n, \\theta)p(n, \\theta) = Zp(X | n, \\theta)$. \n",
    "\n",
    "$$p(n, \\theta | X) \\propto \\prod^k_{i=1} C^n_{x_i} \\theta^{x_i} (1-\\theta)^{n-x_i}$$\n",
    "$$= \\theta^{\\sum+_{i=1}^k x_i}(1-\\theta)^{\\sum_{i=1}^k n-x_i} \\prod_{i=1}^k  C^n_{x_i}$$\n",
    "$$\\theta^k\\hat{x}(1-\\theta)^{k(n-\\hat{x})} \\prod_{i=1}^k  C^n_{x_i}$$\n",
    "\n",
    "Above is the joint probability upto a constant of proportionality. Next we need to find the conditionals, which we can do by simply splitting the above into $f_1(n)f_2(\\theta)$.\n",
    "\n",
    "$$p(\\theta |n, X) \\propto \\theta^k\\hat{x}(1-\\theta)^{k(n-\\hat{x})} = beta(k\\hat{x}+1, k(n-\\hat{x})+1)$$\n",
    "$$p(n |\\theta, X) \\propto (1-\\theta)^{kn}\\prod_{i=1}^k  C^n_{x_i}$$\n",
    "\n",
    "Note that there is no \"nice\" form for $p(n | \\theta, X)$ here. But what we can do, is we know $n \\in \\{5, 6, 7, 8\\}$, so we can use these values and sum them up to get a categorical distribution by normalising with them.\n",
    "\n",
    "Gibbs sampling here then works simply by choosing some random starting point and then iteratively sampling from each of these two conditionals."
   ]
  },
  {
   "cell_type": "markdown",
   "metadata": {},
   "source": [
    "For **our problem**, we have 107 different players, and hence are sampling from 107 different conditional distributions for thier skills. Consider the distribution $p(x) = p(x_{1:d})$. The gibbs sampling algorithm is as follows:\n",
    "\n",
    "\n",
    "> 1. Initialise $\\{x_i : i = 1, .., d\\}$\n",
    "> 2. For $\\tau = 1, ..., T$: <br>\n",
    "    > &nbsp;&nbsp;&nbsp;&nbsp; For $i = 1, ..., d$: <br>\n",
    "        > &nbsp;&nbsp;&nbsp;&nbsp;&nbsp;&nbsp;&nbsp;&nbsp; Sample $x_{i}^{\\tau+1} \\sim p(x_i|x_{\\backslash i}^{(\\tau)})$\n",
    "        \n",
    "**Try over-relaxation?**"
   ]
  },
  {
   "cell_type": "markdown",
   "metadata": {},
   "source": [
    "![GibbsSampling](Figures/GibbsSampling.jpg)\n",
    "\n",
    "Above is an illustration of Gibbs sampmling by alternate updates of two variables, whose distribution is a correlated GAussian. The step size is govened by the standard deviation of the  <span style=\"color:green\">condiditional distribution</span>, and is O(l), leading to slow progression in the direction of elongation of the <span style=\"color:red\">joint distribution</span>. The number of steps needed to obtain an independent sample from the distribution is $O((\\frac{L}{l})^2)$. I.e. **Strong correlations slow down gibbs sampling**."
   ]
  },
  {
   "cell_type": "markdown",
   "metadata": {},
   "source": [
    "In **True Skill** the joint distribution $p(w_{1:d}, t_{1:G})$ is intractable. However, the two conditionals are tractable and have already been derived to be:\n",
    "\n",
    "- **Performance given skill difference**: $p(t_g | w_{I_g}, w_{J_g}, y_g) = \\frac{p(y|t) p(t|w_1, w_2)}{p(y)} \\propto \\delta(y_g - sign(t_g)) \\mathcal{N}(t_g;  w_{I_g} - w_{J_g}, 1)$\n",
    "- **Skills given performances**: $p( \\boldsymbol{w} | \\boldsymbol{t}, \\boldsymbol{y}) = p( \\boldsymbol{w} | \\boldsymbol{t}) \\propto p(\\boldsymbol{w}) \\prod_{g=1}^G p(t_g | w_{I_g}, w_{J_g})  =  p(\\boldsymbol {w}; \\boldsymbol{\\mu}_0, \\Sigma_0) \\prod_{g=1}^G \\mathcal{N}(\\boldsymbol{w}; \\boldsymbol{\\mu}_g, \\Sigma_g)$\n",
    "\n",
    "We can describe the two above distributions in more detail:"
   ]
  },
  {
   "cell_type": "markdown",
   "metadata": {},
   "source": [
    "#### For the conditional posterior of skills (skills given performances) we get:\n",
    "\n",
    "$$p(t_g|w_{I_g}, w_{J_g}) = \\mathcal{N}(t_g; (w_{I_g} - w_{J_g}), 1) \\propto exp(-\\frac{1}{2}(t_g-(w_{I_g} - w_{J_g}))^2 )$$\n",
    "\n",
    "renaming $t_g = \\mu_1 - \\mu_2$\n",
    "\n",
    "$$\\propto exp(-\\frac{1}{2}((w_{I_g} - \\mu_1) - ( w_{J_g} - \\mu_2) )^2 )$$\n",
    "\n",
    "$$ \\propto exp \\bigg( -\\frac{1}{2} \n",
    "\\left[\\begin{array}{c} w_{I_g} - \\mu_1 \\\\ w_{J_g} - \\mu_2 \\end{array}\\right]\n",
    "\\left[\\begin{array}{cc} 1 & -1 \\\\ -1 & 1 \\end{array}\\right]\n",
    "\\left[\\begin{array}{c} w_{I_g} - \\mu_1 \\\\ w_{J_g} - \\mu_2 \\end{array}\\right] \\bigg)\n",
    "$$\n",
    "\n",
    "Recall that when multiplying gaussians, the precisions add up and the means weighted by the precisions also add up:\n",
    "\n",
    "- $\\Sigma_c^{-1} = \\Sigma_a^{-1} + \\Sigma_b^{-1}$\n",
    "- $\\mu_c = \\Sigma_c(\\Sigma_a^{-1}\\mu_a +  \\Sigma_b^{-1} \\mu_b)$\n",
    "\n",
    "Thus:\n",
    "\n",
    "$$p(\\boldsymbol {w}; \\boldsymbol{\\mu}_0, \\Sigma_0) \\prod_{g=1}^G \\mathcal{N}(\\boldsymbol{w}; \\boldsymbol{\\mu}_g, \\Sigma_g) = \\mathcal{N}(\\boldsymbol{w}; \\mu, \\Sigma)$$\n",
    "\n",
    "Where each game precision, $\\Sigma_g^{-1}$ contains only 4 non-zero entries, the full precisions and means are:\n",
    "\n",
    "- $\\Sigma^{-1} = \\Sigma_0^{-1} + \\sum_{g=1}^G \\Sigma_g^{-1}  = \\Sigma_0^{-1} + \\tilde{\\Sigma}^{-1}$\n",
    "- $\\mu = \\Sigma(\\Sigma_0^{-1}\\mu_0 + \\sum_{g=1}^G \\Sigma_g^{-1}\\mu_g) = \\Sigma(\\Sigma_0^{-1}\\mu_0 + \\tilde{\\mu})$\n",
    "\n",
    "defining these further:\n",
    "\n",
    "$$\\tilde{\\mu}_i = \\sum_{g=1}^G t_g(\\delta(i-I_g) - \\delta(i-J_g))$$\n",
    "\n",
    "\n",
    "$$ [ \\tilde{\\Sigma}^{-1} ]_{ij}  = \\bigg\\{  \\begin{array}{c} \\sum_{g=1}^G \\delta(i-I_g) + \\delta(i-J_g) \\; \\; \\; for \\; i = j \\\\ \\sum_{g=1}^G \\delta(i-I_g)\\delta(j-J_g) + \\delta(i-J_g)\\delta(j-I_g) \\; \\; \\; for \\; i \\neq j  \\end{array} $$\n",
    "\n",
    "The conditional skills can be jointly sampled directly using the cholesky factorization."
   ]
  },
  {
   "cell_type": "markdown",
   "metadata": {},
   "source": [
    "#### For the conditional posterior of the performances (performance given skill difference), \n",
    "\n",
    "we get a truncated gaussian that needs no further analysis, however the question becomes how do we sample from it? The inverse transformation method, or rejection sampling are both possibilities."
   ]
  },
  {
   "cell_type": "code",
   "execution_count": 237,
   "metadata": {},
   "outputs": [],
   "source": [
    "def gaussian_distribution(x, mu, s):\n",
    "    exponent = -0.5*((x-mu)/s)**2\n",
    "    Z = (s * np.sqrt(2*np.pi))\n",
    "    return np.exp(exponent) / Z"
   ]
  },
  {
   "cell_type": "code",
   "execution_count": 256,
   "metadata": {},
   "outputs": [],
   "source": [
    "def gibbs_sampler(total_iters, players=PLAYERS, games=GAMES):\n",
    "    num_players, num_games = len(players), len(games)\n",
    "    \n",
    "    skill_samples = np.zeros(shape=(num_players, total_iters))\n",
    "    prior_skill_vars = 0.5*np.ones(shape=(num_players))\n",
    "    skills = np.zeros(shape=(num_players))\n",
    "    \n",
    "    for i in range(total_iters):\n",
    "        ##### 1. SAMPLE p(performance_diffs | skills, outcomes)\n",
    "        p_diffs = np.zeros(shape=(num_games))  # one peformance diff for each game\n",
    "        for g in range(num_games):\n",
    "            skill_diff = skills[games.at[g, 'winner']] - skills[games.at[g, 'loser']]\n",
    "            \n",
    "            # rejection sampling. Only positive performance diffs are accepted\n",
    "            p_diffs[g] = skill_diff + np.random.randn()\n",
    "            while p_diffs[g] < 0:\n",
    "                p_diffs[g] = skill_diff + np.random.randn()\n",
    "                   \n",
    "        ##### 2. SAMPLE p(skills | performance_diffs)\n",
    "        skills_mean = np.zeros(shape=(num_players))\n",
    "        for p in range(num_players):\n",
    "            skills_mean[p] = np.dot(p_diffs, ((games['winner'] - p) == 0).astype(np.int32) - ((games['loser'] - p) == 0).astype(np.int32))            \n",
    "        \n",
    "        skills_precision = np.zeros(shape=(num_players, num_players))\n",
    "        for g in range(num_games):\n",
    "            skills_precision[games.at[g, 'winner'], games.at[g, 'winner']] += 1\n",
    "            skills_precision[games.at[g, 'loser'], games.at[g, 'loser']] += 1\n",
    "            skills_precision[games.at[g, 'winner'], games.at[g, 'loser']] -= 1\n",
    "            skills_precision[games.at[g, 'loser'], games.at[g, 'winner']] -= 1 \n",
    "        skills_precision = np.diag(1.0 /prior_skill_vars) + skills_precision\n",
    "        \n",
    "        # cholesky decomposition of the precision matrix so we can sample from a multivariate gaussian\n",
    "        chol = scipy.linalg.cho_factor(skills_precision) # (107x107 upper tri chol decomp, bower=false)\n",
    "        mu = scipy.linalg.cho_solve(c_and_lower=chol, b=skills_mean, check_finite=False) # solve C.mu=b, mu=107x0\n",
    "        sample = mu + scipy.linalg.solve_triangular(chol[0], np.random.randn(num_players, 1), check_finite=False).flatten() # 107x107\n",
    "        \n",
    "        skill_samples[:, i] = sample\n",
    "        \n",
    "    return skill_samples"
   ]
  },
  {
   "cell_type": "code",
   "execution_count": 283,
   "metadata": {},
   "outputs": [
    {
     "data": {
      "text/html": [
       "<div>\n",
       "<style scoped>\n",
       "    .dataframe tbody tr th:only-of-type {\n",
       "        vertical-align: middle;\n",
       "    }\n",
       "\n",
       "    .dataframe tbody tr th {\n",
       "        vertical-align: top;\n",
       "    }\n",
       "\n",
       "    .dataframe thead th {\n",
       "        text-align: right;\n",
       "    }\n",
       "</style>\n",
       "<table border=\"1\" class=\"dataframe\">\n",
       "  <thead>\n",
       "    <tr style=\"text-align: right;\">\n",
       "      <th>name</th>\n",
       "      <th>Rafael-Nadal</th>\n",
       "      <th>Juan-Monaco</th>\n",
       "      <th>Juan-Martin-Del-Potro</th>\n",
       "      <th>Mardy-Fish</th>\n",
       "      <th>Roger-Federer</th>\n",
       "      <th>Jo-Wilfried-Tsonga</th>\n",
       "      <th>Guillermo-Garcia-Lopez</th>\n",
       "      <th>Florian-Mayer</th>\n",
       "      <th>Milos-Raonic</th>\n",
       "      <th>Santiago-Giraldo</th>\n",
       "      <th>...</th>\n",
       "      <th>Juan-Sebastian-Cabal</th>\n",
       "      <th>Colin-Fleming</th>\n",
       "      <th>Santiago-Gonzalez</th>\n",
       "      <th>Marc-Lopez</th>\n",
       "      <th>Rohan-Bopanna</th>\n",
       "      <th>Michael-Kohlmann</th>\n",
       "      <th>Simon-Aspelin</th>\n",
       "      <th>Mikhail-Elgin</th>\n",
       "      <th>Robert-Lindstedt</th>\n",
       "      <th>Jean-Julien-Rojer</th>\n",
       "    </tr>\n",
       "  </thead>\n",
       "  <tbody>\n",
       "    <tr>\n",
       "      <th>count</th>\n",
       "      <td>1100.000000</td>\n",
       "      <td>1100.000000</td>\n",
       "      <td>1100.000000</td>\n",
       "      <td>1100.000000</td>\n",
       "      <td>1100.000000</td>\n",
       "      <td>1100.000000</td>\n",
       "      <td>1100.000000</td>\n",
       "      <td>1100.000000</td>\n",
       "      <td>1100.000000</td>\n",
       "      <td>1100.000000</td>\n",
       "      <td>...</td>\n",
       "      <td>1100.000000</td>\n",
       "      <td>1100.000000</td>\n",
       "      <td>1100.000000</td>\n",
       "      <td>1100.000000</td>\n",
       "      <td>1100.000000</td>\n",
       "      <td>1100.000000</td>\n",
       "      <td>1100.000000</td>\n",
       "      <td>1100.000000</td>\n",
       "      <td>1100.000000</td>\n",
       "      <td>1100.000000</td>\n",
       "    </tr>\n",
       "    <tr>\n",
       "      <th>mean</th>\n",
       "      <td>0.776065</td>\n",
       "      <td>0.149322</td>\n",
       "      <td>0.431874</td>\n",
       "      <td>0.323068</td>\n",
       "      <td>0.759233</td>\n",
       "      <td>0.452969</td>\n",
       "      <td>-0.169739</td>\n",
       "      <td>0.302511</td>\n",
       "      <td>0.232258</td>\n",
       "      <td>0.001429</td>\n",
       "      <td>...</td>\n",
       "      <td>-0.494782</td>\n",
       "      <td>-0.197975</td>\n",
       "      <td>0.063485</td>\n",
       "      <td>-0.066408</td>\n",
       "      <td>-0.400031</td>\n",
       "      <td>-0.414354</td>\n",
       "      <td>-0.216354</td>\n",
       "      <td>-0.645666</td>\n",
       "      <td>-0.188573</td>\n",
       "      <td>-0.452266</td>\n",
       "    </tr>\n",
       "    <tr>\n",
       "      <th>std</th>\n",
       "      <td>0.150642</td>\n",
       "      <td>0.179559</td>\n",
       "      <td>0.167271</td>\n",
       "      <td>0.166958</td>\n",
       "      <td>0.153834</td>\n",
       "      <td>0.155988</td>\n",
       "      <td>0.198219</td>\n",
       "      <td>0.164446</td>\n",
       "      <td>0.196554</td>\n",
       "      <td>0.179395</td>\n",
       "      <td>...</td>\n",
       "      <td>0.551902</td>\n",
       "      <td>0.610908</td>\n",
       "      <td>0.541830</td>\n",
       "      <td>0.547400</td>\n",
       "      <td>0.462406</td>\n",
       "      <td>0.630661</td>\n",
       "      <td>0.601930</td>\n",
       "      <td>0.413807</td>\n",
       "      <td>0.613574</td>\n",
       "      <td>0.606232</td>\n",
       "    </tr>\n",
       "    <tr>\n",
       "      <th>min</th>\n",
       "      <td>0.325295</td>\n",
       "      <td>-0.426615</td>\n",
       "      <td>-0.149830</td>\n",
       "      <td>-0.348555</td>\n",
       "      <td>0.196128</td>\n",
       "      <td>-0.189484</td>\n",
       "      <td>-0.799195</td>\n",
       "      <td>-0.220037</td>\n",
       "      <td>-0.375822</td>\n",
       "      <td>-0.588293</td>\n",
       "      <td>...</td>\n",
       "      <td>-3.260193</td>\n",
       "      <td>-1.957292</td>\n",
       "      <td>-1.800911</td>\n",
       "      <td>-1.860951</td>\n",
       "      <td>-1.902854</td>\n",
       "      <td>-2.455842</td>\n",
       "      <td>-2.202995</td>\n",
       "      <td>-2.105283</td>\n",
       "      <td>-2.142160</td>\n",
       "      <td>-2.248164</td>\n",
       "    </tr>\n",
       "    <tr>\n",
       "      <th>25%</th>\n",
       "      <td>0.671726</td>\n",
       "      <td>0.023209</td>\n",
       "      <td>0.313652</td>\n",
       "      <td>0.211457</td>\n",
       "      <td>0.655540</td>\n",
       "      <td>0.349897</td>\n",
       "      <td>-0.307451</td>\n",
       "      <td>0.193176</td>\n",
       "      <td>0.098745</td>\n",
       "      <td>-0.123838</td>\n",
       "      <td>...</td>\n",
       "      <td>-0.877864</td>\n",
       "      <td>-0.622148</td>\n",
       "      <td>-0.305810</td>\n",
       "      <td>-0.428360</td>\n",
       "      <td>-0.722719</td>\n",
       "      <td>-0.834372</td>\n",
       "      <td>-0.637413</td>\n",
       "      <td>-0.918929</td>\n",
       "      <td>-0.582254</td>\n",
       "      <td>-0.867205</td>\n",
       "    </tr>\n",
       "    <tr>\n",
       "      <th>50%</th>\n",
       "      <td>0.781912</td>\n",
       "      <td>0.155206</td>\n",
       "      <td>0.430426</td>\n",
       "      <td>0.323690</td>\n",
       "      <td>0.757691</td>\n",
       "      <td>0.457457</td>\n",
       "      <td>-0.162585</td>\n",
       "      <td>0.304142</td>\n",
       "      <td>0.235007</td>\n",
       "      <td>0.004749</td>\n",
       "      <td>...</td>\n",
       "      <td>-0.482654</td>\n",
       "      <td>-0.191027</td>\n",
       "      <td>0.056690</td>\n",
       "      <td>-0.066198</td>\n",
       "      <td>-0.390060</td>\n",
       "      <td>-0.395946</td>\n",
       "      <td>-0.215422</td>\n",
       "      <td>-0.640440</td>\n",
       "      <td>-0.170655</td>\n",
       "      <td>-0.441323</td>\n",
       "    </tr>\n",
       "    <tr>\n",
       "      <th>75%</th>\n",
       "      <td>0.874774</td>\n",
       "      <td>0.273637</td>\n",
       "      <td>0.547237</td>\n",
       "      <td>0.431471</td>\n",
       "      <td>0.862200</td>\n",
       "      <td>0.557667</td>\n",
       "      <td>-0.042274</td>\n",
       "      <td>0.407206</td>\n",
       "      <td>0.372640</td>\n",
       "      <td>0.126612</td>\n",
       "      <td>...</td>\n",
       "      <td>-0.115014</td>\n",
       "      <td>0.235662</td>\n",
       "      <td>0.418228</td>\n",
       "      <td>0.326359</td>\n",
       "      <td>-0.070477</td>\n",
       "      <td>0.009034</td>\n",
       "      <td>0.191852</td>\n",
       "      <td>-0.363146</td>\n",
       "      <td>0.220795</td>\n",
       "      <td>-0.070731</td>\n",
       "    </tr>\n",
       "    <tr>\n",
       "      <th>max</th>\n",
       "      <td>1.320052</td>\n",
       "      <td>0.811938</td>\n",
       "      <td>0.912742</td>\n",
       "      <td>0.815552</td>\n",
       "      <td>1.269616</td>\n",
       "      <td>0.998086</td>\n",
       "      <td>0.462645</td>\n",
       "      <td>0.820843</td>\n",
       "      <td>0.779530</td>\n",
       "      <td>0.473129</td>\n",
       "      <td>...</td>\n",
       "      <td>1.172808</td>\n",
       "      <td>1.360567</td>\n",
       "      <td>1.883241</td>\n",
       "      <td>1.895690</td>\n",
       "      <td>1.000194</td>\n",
       "      <td>1.524507</td>\n",
       "      <td>2.104659</td>\n",
       "      <td>0.777624</td>\n",
       "      <td>1.532834</td>\n",
       "      <td>1.610986</td>\n",
       "    </tr>\n",
       "  </tbody>\n",
       "</table>\n",
       "<p>8 rows × 107 columns</p>\n",
       "</div>"
      ],
      "text/plain": [
       "name   Rafael-Nadal  Juan-Monaco  Juan-Martin-Del-Potro   Mardy-Fish  \\\n",
       "count   1100.000000  1100.000000            1100.000000  1100.000000   \n",
       "mean       0.776065     0.149322               0.431874     0.323068   \n",
       "std        0.150642     0.179559               0.167271     0.166958   \n",
       "min        0.325295    -0.426615              -0.149830    -0.348555   \n",
       "25%        0.671726     0.023209               0.313652     0.211457   \n",
       "50%        0.781912     0.155206               0.430426     0.323690   \n",
       "75%        0.874774     0.273637               0.547237     0.431471   \n",
       "max        1.320052     0.811938               0.912742     0.815552   \n",
       "\n",
       "name   Roger-Federer  Jo-Wilfried-Tsonga  Guillermo-Garcia-Lopez  \\\n",
       "count    1100.000000         1100.000000             1100.000000   \n",
       "mean        0.759233            0.452969               -0.169739   \n",
       "std         0.153834            0.155988                0.198219   \n",
       "min         0.196128           -0.189484               -0.799195   \n",
       "25%         0.655540            0.349897               -0.307451   \n",
       "50%         0.757691            0.457457               -0.162585   \n",
       "75%         0.862200            0.557667               -0.042274   \n",
       "max         1.269616            0.998086                0.462645   \n",
       "\n",
       "name   Florian-Mayer  Milos-Raonic  Santiago-Giraldo        ...          \\\n",
       "count    1100.000000   1100.000000       1100.000000        ...           \n",
       "mean        0.302511      0.232258          0.001429        ...           \n",
       "std         0.164446      0.196554          0.179395        ...           \n",
       "min        -0.220037     -0.375822         -0.588293        ...           \n",
       "25%         0.193176      0.098745         -0.123838        ...           \n",
       "50%         0.304142      0.235007          0.004749        ...           \n",
       "75%         0.407206      0.372640          0.126612        ...           \n",
       "max         0.820843      0.779530          0.473129        ...           \n",
       "\n",
       "name   Juan-Sebastian-Cabal  Colin-Fleming  Santiago-Gonzalez   Marc-Lopez  \\\n",
       "count           1100.000000    1100.000000        1100.000000  1100.000000   \n",
       "mean              -0.494782      -0.197975           0.063485    -0.066408   \n",
       "std                0.551902       0.610908           0.541830     0.547400   \n",
       "min               -3.260193      -1.957292          -1.800911    -1.860951   \n",
       "25%               -0.877864      -0.622148          -0.305810    -0.428360   \n",
       "50%               -0.482654      -0.191027           0.056690    -0.066198   \n",
       "75%               -0.115014       0.235662           0.418228     0.326359   \n",
       "max                1.172808       1.360567           1.883241     1.895690   \n",
       "\n",
       "name   Rohan-Bopanna  Michael-Kohlmann  Simon-Aspelin  Mikhail-Elgin  \\\n",
       "count    1100.000000       1100.000000    1100.000000    1100.000000   \n",
       "mean       -0.400031         -0.414354      -0.216354      -0.645666   \n",
       "std         0.462406          0.630661       0.601930       0.413807   \n",
       "min        -1.902854         -2.455842      -2.202995      -2.105283   \n",
       "25%        -0.722719         -0.834372      -0.637413      -0.918929   \n",
       "50%        -0.390060         -0.395946      -0.215422      -0.640440   \n",
       "75%        -0.070477          0.009034       0.191852      -0.363146   \n",
       "max         1.000194          1.524507       2.104659       0.777624   \n",
       "\n",
       "name   Robert-Lindstedt  Jean-Julien-Rojer  \n",
       "count       1100.000000        1100.000000  \n",
       "mean          -0.188573          -0.452266  \n",
       "std            0.613574           0.606232  \n",
       "min           -2.142160          -2.248164  \n",
       "25%           -0.582254          -0.867205  \n",
       "50%           -0.170655          -0.441323  \n",
       "75%            0.220795          -0.070731  \n",
       "max            1.532834           1.610986  \n",
       "\n",
       "[8 rows x 107 columns]"
      ]
     },
     "metadata": {},
     "output_type": "display_data"
    },
    {
     "name": "stdout",
     "output_type": "stream",
     "text": [
      "Wall time: 2min 18s\n"
     ]
    }
   ],
   "source": [
    "%%time\n",
    "skill_samples = gibbs_sampler(1100)\n",
    "skill_samples = pd.DataFrame(data=skill_samples.T, columns=PLAYERS['name'])\n",
    "display(skill_samples.describe()) # there are tot_iters rows and each row is a person"
   ]
  },
  {
   "cell_type": "code",
   "execution_count": 284,
   "metadata": {},
   "outputs": [],
   "source": [
    "def plot_skill_vs_iter(skill_samples, players):\n",
    "    fig, ax = plt.subplots(nrows=1, ncols=1, figsize=(11, 4))  # preferred to plt.plot\n",
    "    \n",
    "    # use pandas to plot things... it's better than matplotlib\n",
    "    skill_samples[players].plot(ax=ax, alpha=0.5)\n",
    "    ax.set_xlabel('Iterations')\n",
    "    ax.set_ylabel('Player Skill')"
   ]
  },
  {
   "cell_type": "code",
   "execution_count": 285,
   "metadata": {},
   "outputs": [
    {
     "data": {
      "image/png": "[encoded data removed]",
      "text/plain": [
       "<Figure size 792x288 with 1 Axes>"
      ]
     },
     "metadata": {},
     "output_type": "display_data"
    }
   ],
   "source": [
    "player_names=['Rafael-Nadal', 'Roger-Federer', 'Rohan-Bopanna']\n",
    "plot_skill_vs_iter(skill_samples, player_names)"
   ]
  },
  {
   "cell_type": "code",
   "execution_count": 289,
   "metadata": {},
   "outputs": [],
   "source": [
    "def plot_autocorrelations(skill_samples, players):\n",
    "    max_lag=10    \n",
    "    autocor = pd.DataFrame(columns=players, index=range(max_lag))\n",
    "    \n",
    "    for p in players:\n",
    "        for i in range(max_lag):\n",
    "            autocor.at[i, p]=pd.Series.autocorr(pd.Series(skill_samples[p].values), lag=i)\n",
    "     \n",
    "    autocor.plot()"
   ]
  },
  {
   "cell_type": "code",
   "execution_count": 288,
   "metadata": {},
   "outputs": [
    {
     "data": {
      "image/png": "[encoded data removed]",
      "text/plain": [
       "<Figure size 432x288 with 1 Axes>"
      ]
     },
     "metadata": {},
     "output_type": "display_data"
    }
   ],
   "source": [
    "plot_autocorrelations(skill_samples, player_names)"
   ]
  },
  {
   "cell_type": "code",
   "execution_count": null,
   "metadata": {},
   "outputs": [],
   "source": []
  }
 ],
 "metadata": {
  "kernelspec": {
   "display_name": "Python 3",
   "language": "python",
   "name": "python3"
  },
  "language_info": {
   "codemirror_mode": {
    "name": "ipython",
    "version": 3
   },
   "file_extension": ".py",
   "mimetype": "text/x-python",
   "name": "python",
   "nbconvert_exporter": "python",
   "pygments_lexer": "ipython3",
   "version": "3.6.5"
  }
 },
 "nbformat": 4,
 "nbformat_minor": 2
}
