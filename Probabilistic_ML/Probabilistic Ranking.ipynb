{
 "cells": [
  {
   "cell_type": "code",
   "execution_count": 2,
   "metadata": {},
   "outputs": [],
   "source": [
    "import numpy as np\n",
    "import pandas as pd\n",
    "import scipy\n",
    "import sklearn\n",
    "import scipy as s\n",
    "from IPython.display import display\n",
    "import matplotlib.pyplot as plt"
   ]
  },
  {
   "cell_type": "markdown",
   "metadata": {},
   "source": [
    "# Table of Contents <a name=\"contents\"></a>\n",
    "- [**1. Introduction**](#introduction)\n",
    "    - [1.1. A Generative Model for Skill](#a_generative_model_for_skill)\n",
    "    - [1.2. Outcome given Skills](#outcome_given_skills)\n",
    "    - [1.3. Skills given Outcome, and the Evidence](#skills_given_outcome_and_the_evidence)\n",
    "    - [1.4. Computing the Conditionals](#computing_the_conditionals)\n",
    "- [**2. Load the Data**](#load_the_data)\n",
    "- [**3. Gibbs Rank**](#gibbs_rank)\n",
    "    - [3.1. Integration of an Intractable Posterior](#integration_of_an_intractable_posterior)\n",
    "    - [3.2. Gibbs Sampling](#gibbs_sampling)\n",
    "    - [3.3. Gibbs Sampling for TrueSkill](#gibbs_sampling_for_trueskill)\n",
    "    - [3.4. Implementation](#implementation)\n",
    "- [**4. Message Passing**](#message_passing)\n"
   ]
  },
  {
   "cell_type": "markdown",
   "metadata": {},
   "source": [
    "# 1. Introduction <a name=\"introduction\"></a>"
   ]
  },
  {
   "cell_type": "markdown",
   "metadata": {},
   "source": [
    "Ranking systems have many different applications, however most common ones are poor as they rely on arbitrary conventions which lead to poor proformance. In general, they try to answer they question **What is the probability that player 1 defeats player 2?**. In order to determine this probabilistically, there are a number of things to consider:\n",
    "\n",
    "- Considers who you played against.\n",
    "- Must be robust against players who have not played against eachother.\n",
    "- Give a good estimate at any point in the season.\n",
    "- Take into account performance inconsistancy.\n",
    "\n",
    "Therefore, what we want to infer is the player's **skill**, $w$. These skills must be comparable (i.e. a player with a higher skill must be more likely to win), and as such we want to do a probabilstic inference of a player's skill and be able to compute the probability of a game's outcome."
   ]
  },
  {
   "cell_type": "markdown",
   "metadata": {},
   "source": [
    "## 1.1. A generative model for skill <a name=\"a_generative_model_for_skill\"></a>\n",
    "[Back to Top](#contents)\n",
    "\n",
    "A summary of a generative model for game outcomes can be defined as:\n",
    "\n",
    "1. **Skills** Take two players with known skills, $$w_i \\in \\mathbb{R}$$\n",
    "2. **Skill Difference**: $$s = w_1 - w_2$$\n",
    "3. **Performance Difference**: Add noise ($n \\sim \\mathcal{N}(0, 1))$ to account for performance inconsistance: $$t = s + n$$\n",
    "4. **Game outcome** is given by $y=sign(t)$:\n",
    "    - $y = +1$ means player 1 wins\n",
    "    - $y = -1$ means player 2 wins"
   ]
  },
  {
   "cell_type": "markdown",
   "metadata": {},
   "source": [
    "![GenerativeModel](Figures/GenerativeModel.png)"
   ]
  },
  {
   "cell_type": "markdown",
   "metadata": {},
   "source": [
    "The graph above shows part of the directed graph for the TrueSkill model. This encapsulates all of the conditional dependencies described above, and allows the joint distribution to be written as:\n",
    "\n",
    "$$p(w_1, w_2, s_{12}, t_{12} | y_{12}) = \\frac{p(w_1, w_2, s_{12}, t_{12}, y_{12})}{p(y)} = \\frac{p(w_1)p(w_2)p(s_{12}|w_1, w_2)p(t_{12}|s_{12})p(y_{12}|t_{12})}{p(y)}$$\n",
    "\n",
    "Note that this graphical model is described as \"head-to-head\" because the S nodes are at the head of at least two directed connections. A rule in graphical models is that if any \"head-to-head\" node, or any of its descendents, are observed, the path between parents nodes becomes \"unblocked\". I.e. the skills become dependent on eachother - which makes sense as we cannot determine one players skill without playing them against another.\n",
    "\n",
    "The joint distribution given above is only a very small section of the whole joint distribution, which is almost circular in its dependencies (i.e. there is also an $s_{13}$ and an $s_{1,103}$, and so on - a different s for every game played).\n",
    "\n",
    "We derive the probabilities above in subsequent sections. The aim of this notebook is to derive the marginal distributions $p(w)$ for all players."
   ]
  },
  {
   "cell_type": "markdown",
   "metadata": {},
   "source": [
    "## 1.2. Outcome given Skills <a name=\"outcome_given_skills\"></a>\n",
    "[Back to Top](#contents)\n",
    "    \n",
    "Therefore we can work out the probability that player 1 wins given the players skills':\n",
    "\n",
    "$$p(y| w_1, w_2) = \\int \\int p(y|t) p(t|s) p(s | w_1, w_2) dsdt$$\n",
    "$$ = \\int p(y|t) p(t|w_1, w_2) dt$$\n",
    "$$ = \\int^{+\\infty}_{-\\infty} \\delta(y - sign(t)) \\mathcal{N}(t; w_1 - w_2, 1) dt$$\n",
    "$$ = \\int^{+\\infty}_{-\\infty} \\delta(1 - sign(yt)) \\mathcal{N}(yt; y(w_1 - w_2), 1) dt $$\n",
    "set z = yt and note the change in limits and dt:\n",
    "$$ = \\int^{+y\\infty}_{-y\\infty} \\delta(1 - sign(z)) \\mathcal{N}(z; y(w_1 - w_2), 1) y dz $$\n",
    "$$ = \\int^{+\\infty}_{-\\infty} \\delta(1 -sign(z)) \\mathcal{N}(z; y(w_1 - w_2), 1) dz $$\n",
    "And rearrange the limits:\n",
    "$$ = \\int^{+\\infty}_{0} \\mathcal{N}(z; y(w_1 - w_2), 1) dz $$\n",
    "using $x = y(w_1-w_2) - z$\n",
    "$$ = \\int^{y(w_1 - w_2)}_{-\\infty} \\mathcal{N}(x; 0, 1) dx $$\n",
    "$$ = \\Phi(y(w_1 - w_2))$$\n",
    "\n",
    "where $\\Phi(a)$ is the gaussian c.d.f, or the *probit* function.\n",
    "\n",
    "For the probability of player 1 winning, we simply use $p(y=1| w_1, w_2) = p(t>0| w_1, w_2) = \\Phi(w_1 - w_2)$"
   ]
  },
  {
   "cell_type": "markdown",
   "metadata": {},
   "source": [
    "![PerformanceDifference](Figures/PerformanceDifference.jpg)"
   ]
  },
  {
   "cell_type": "markdown",
   "metadata": {},
   "source": [
    "## 1.3. Skills Given Outcome, and the Evidence <a name=\"skills_given_outcome_and_the_evidence\"></a>\n",
    "[Back to Top](#contents)\n",
    "\n",
    "$$p(w_1, w_2 | y) = \\frac{Priors \\times Likelihood}{Evidence}$$\n",
    "<br>\n",
    "$$ = \\frac{p(w_1)p(w_2) \\times p(y|w_1, w_2)}{\\int \\int p(w_1)p(w_2) \\times p(y|w_1, w_2) dw_1 dw_2}$$\n",
    "<br>\n",
    "$$ = \\frac{\\mathcal{N}(w_1; \\mu_1, \\sigma_1^2) \\mathcal{N}(w_2; \\mu_2, \\sigma_2^2) \\times \\Phi(y(w_1 - w_2))}{\\int \\int \\mathcal{N}(w_1; \\mu_1, \\sigma_1^2) \\mathcal{N}(w_2; \\mu_2, \\sigma_2^2) \\times \\Phi(y(w_1 - w_2)) dw_1 dw_2}$$\n",
    "\n",
    "The joint posterior over skills does not have a closed form as the probit function is not closed. Additionally, $w_1$ and $w_2$ have become correlated due to the priors and therefore does not factorise, nor is it a gaussian density function.\n",
    "\n",
    "Fortunately, the evidence does have a closed form:\n",
    "\n",
    "$$p(y) = \\int \\int \\mathcal{N}(w_1; \\mu_1, \\sigma_1^2) \\mathcal{N}(w_2; \\mu_2, \\sigma_2^2) \\times \\Phi(y(w_1 - w_2)) dw_1 dw_2 = \\Phi \\bigg(\\frac{y(\\mu_1 - \\mu_2)}{\\sqrt{1 + \\sigma_1^2 + \\sigma_2^2}} \\bigg)$$\n",
    "\n",
    "This is effectively a smoother version of the likelihood as we are using mean skills of each player, and normalising over their variances."
   ]
  },
  {
   "cell_type": "markdown",
   "metadata": {},
   "source": [
    "## 1.4. Computing the Conditionals <a name=\"computing_the_conditionals\"></a>\n",
    "[Back to Top](#contents)\n",
    "\n",
    "For notation we have have $g = \\{1, ..., G\\}$ games where $I_g$ is the id of player 1, and $J_g$ is the id of player 1. The outcome of game g is:\n",
    "\n",
    "$$y_g = \\bigg{\\{} \\begin{array}{c} +1 \\; if \\; I_g \\; wins \\\\ -1 \\; if \\; J_g \\; wins \\end{array}$$\n",
    "\n",
    "Note also that the vector of skills is $\\boldsymbol{w} = [w_1, ..., w_d]^T$, (d=107 players) and the vector of performance differences is $\\boldsymbol{t} = [t_1, ..., t_G]^T$.\n",
    "\n",
    "In **True Skill** the joint distribution $p(w_{1:d}, t_{1:G})$ is intractable. However, the two conditionals are tractable and easily derived to be:\n",
    "\n",
    "- **Performance given skill difference**: $p(t_g | w_{I_g}, w_{J_g}, y_g) \\propto \\delta(y_g - sign(t_g)) \\mathcal{N}(t_g;  w_{I_g} - w_{J_g}, 1)$\n",
    "- **Skills given performances**: $p( \\boldsymbol{w} | \\boldsymbol{t}, \\boldsymbol{y}) = p( \\boldsymbol{w} | \\boldsymbol{t}) \\propto p(\\boldsymbol {w}; \\boldsymbol{\\mu}_0, \\Sigma_0) \\prod_{g=1}^G \\mathcal{N}(\\boldsymbol{w}; \\boldsymbol{\\mu}_g, \\Sigma_g)$\n",
    "\n",
    "In order to calculate these, we can take the performance difference directly from the derivation of the evidence:\n",
    "\n",
    "$$p(t | w_1, w_2, y) = p(y|t) p(t|w_1, w_2) = \\delta(y - sign(t)) \\mathcal{N}(t; w_1 - w_2, 1) dt$$\n",
    "\n",
    "and similarly, we note that the priors for skill are $p(w_i) = \\mathcal{N}(w_i | u_i, \\sigma_i^2) \\implies p(\\boldsymbol{w}) = \\prod_{i=1}^d p(w_i) = \\mathcal{N}(\\boldsymbol{w} ; \\boldsymbol{\\mu}_0, \\Sigma_0)$. Thus,\n",
    "\n",
    "$$p( \\boldsymbol{w} | \\boldsymbol{t}) = \\frac{p(\\boldsymbol{w})p(\\boldsymbol{t}| \\boldsymbol{w})}{p(\\boldsymbol{t})} \\propto p(\\boldsymbol{w}) \\prod_{g=1}^G p(t_g | w_{I_g}, w_{J_g}) = \\mathcal{N}(\\boldsymbol{w} ; \\boldsymbol{\\mu}_0, \\Sigma_0) \\prod_{g=1}^G \\mathcal{N}(\\boldsymbol{w}; \\boldsymbol{\\mu}_g, \\Sigma_g)\n",
    "$$"
   ]
  },
  {
   "cell_type": "markdown",
   "metadata": {},
   "source": [
    "# 2. Load the Data <a name=\"load_the_data\"></a>\n",
    "[Back to Top](#contents)"
   ]
  },
  {
   "cell_type": "code",
   "execution_count": 3,
   "metadata": {},
   "outputs": [],
   "source": [
    "import scipy.io\n",
    "mat = scipy.io.loadmat('tennis_data.mat')"
   ]
  },
  {
   "cell_type": "code",
   "execution_count": 4,
   "metadata": {},
   "outputs": [
    {
     "data": {
      "text/html": [
       "<div>\n",
       "<style scoped>\n",
       "    .dataframe tbody tr th:only-of-type {\n",
       "        vertical-align: middle;\n",
       "    }\n",
       "\n",
       "    .dataframe tbody tr th {\n",
       "        vertical-align: top;\n",
       "    }\n",
       "\n",
       "    .dataframe thead th {\n",
       "        text-align: right;\n",
       "    }\n",
       "</style>\n",
       "<table border=\"1\" class=\"dataframe\">\n",
       "  <thead>\n",
       "    <tr style=\"text-align: right;\">\n",
       "      <th></th>\n",
       "      <th>name</th>\n",
       "    </tr>\n",
       "  </thead>\n",
       "  <tbody>\n",
       "    <tr>\n",
       "      <th>0</th>\n",
       "      <td>Rafael-Nadal</td>\n",
       "    </tr>\n",
       "    <tr>\n",
       "      <th>1</th>\n",
       "      <td>Juan-Monaco</td>\n",
       "    </tr>\n",
       "    <tr>\n",
       "      <th>2</th>\n",
       "      <td>Juan-Martin-Del-Potro</td>\n",
       "    </tr>\n",
       "    <tr>\n",
       "      <th>3</th>\n",
       "      <td>Mardy-Fish</td>\n",
       "    </tr>\n",
       "    <tr>\n",
       "      <th>4</th>\n",
       "      <td>Roger-Federer</td>\n",
       "    </tr>\n",
       "  </tbody>\n",
       "</table>\n",
       "</div>"
      ],
      "text/plain": [
       "                    name\n",
       "0           Rafael-Nadal\n",
       "1            Juan-Monaco\n",
       "2  Juan-Martin-Del-Potro\n",
       "3             Mardy-Fish\n",
       "4          Roger-Federer"
      ]
     },
     "metadata": {},
     "output_type": "display_data"
    },
    {
     "data": {
      "text/html": [
       "<div>\n",
       "<style scoped>\n",
       "    .dataframe tbody tr th:only-of-type {\n",
       "        vertical-align: middle;\n",
       "    }\n",
       "\n",
       "    .dataframe tbody tr th {\n",
       "        vertical-align: top;\n",
       "    }\n",
       "\n",
       "    .dataframe thead th {\n",
       "        text-align: right;\n",
       "    }\n",
       "</style>\n",
       "<table border=\"1\" class=\"dataframe\">\n",
       "  <thead>\n",
       "    <tr style=\"text-align: right;\">\n",
       "      <th></th>\n",
       "      <th>winner</th>\n",
       "      <th>loser</th>\n",
       "    </tr>\n",
       "  </thead>\n",
       "  <tbody>\n",
       "    <tr>\n",
       "      <th>0</th>\n",
       "      <td>0</td>\n",
       "      <td>1</td>\n",
       "    </tr>\n",
       "    <tr>\n",
       "      <th>1</th>\n",
       "      <td>0</td>\n",
       "      <td>2</td>\n",
       "    </tr>\n",
       "    <tr>\n",
       "      <th>2</th>\n",
       "      <td>0</td>\n",
       "      <td>2</td>\n",
       "    </tr>\n",
       "    <tr>\n",
       "      <th>3</th>\n",
       "      <td>0</td>\n",
       "      <td>2</td>\n",
       "    </tr>\n",
       "    <tr>\n",
       "      <th>4</th>\n",
       "      <td>0</td>\n",
       "      <td>2</td>\n",
       "    </tr>\n",
       "  </tbody>\n",
       "</table>\n",
       "</div>"
      ],
      "text/plain": [
       "   winner  loser\n",
       "0       0      1\n",
       "1       0      2\n",
       "2       0      2\n",
       "3       0      2\n",
       "4       0      2"
      ]
     },
     "metadata": {},
     "output_type": "display_data"
    },
    {
     "data": {
      "text/plain": [
       "107"
      ]
     },
     "metadata": {},
     "output_type": "display_data"
    },
    {
     "data": {
      "text/plain": [
       "1801"
      ]
     },
     "metadata": {},
     "output_type": "display_data"
    }
   ],
   "source": [
    "PLAYERS = pd.DataFrame(mat['W'], columns=['name']).applymap(lambda x: x[0])  # remove the list around each players name\n",
    "GAMES = pd.DataFrame(mat['G']-1, columns=['winner', 'loser'])  # -1 because player num starts from 1 in matlab\n",
    "display(PLAYERS.head(), GAMES.head())\n",
    "display(len(PLAYERS), len(GAMES))"
   ]
  },
  {
   "cell_type": "markdown",
   "metadata": {},
   "source": [
    "# 3. Gibbs Rank <a name=\"gibbs_rank\"></a>"
   ]
  },
  {
   "cell_type": "markdown",
   "metadata": {},
   "source": [
    "## 3.1. Integration of an Intractable Posterior <a name=\"integration_of_an_intractable_posterior\"></a>\n",
    "[Back to Top](#contents)"
   ]
  },
  {
   "cell_type": "markdown",
   "metadata": {},
   "source": [
    "The basis of Monte-Carlo approximation is:\n",
    "$$\\mathbb{E}_{p(x)} \\big[ \\Phi(x) \\big] \\approx \\hat{\\Phi} = \\frac{1}{T} \\sum^t_{\\tau = 1} \\Phi(x^{(\\tau)}), \\text{  where } x^{(\\tau)} \\sim p(x)$$\n",
    "\n",
    "Note that $x^{(\\tau)}$ is the $\\tau$th d-dimensional sample from the distribution p(x), which is analytically intractable (and typically d>>1).\n",
    "\n",
    "This is infact an unbiased estimate, with $Var[\\hat{\\Phi}] = \\frac{Var[\\Phi]}{T}$. Note $Var[\\Phi] = \\int (\\Phi(x) - \\mathbb{E}[\\Phi])^2 p(x) dx$. Note that this is independent of dimension d, of x.\n",
    "\n",
    "\n",
    "How do we generate samples from p(x)? If the distribution has a standard form then we could generate independent samples, however, it is often difficult to sample from this joint distribution if it is within a high dimensional space (the curse of dimensionality). In order to get around this we can use **Gibbs Sampling**, which uses a Markov Chain to generate dependent samples from the desired distribution:\n",
    "\n",
    "$$x_i' \\sim  p(x_i | x_{1, 2, ..., i-1, i+1, ..., d})$$"
   ]
  },
  {
   "cell_type": "markdown",
   "metadata": {},
   "source": [
    "## 3.2. Gibbs Sampling <a name=\"gibbs_sampling\"></a>\n",
    "[Back to Top](#contents)"
   ]
  },
  {
   "cell_type": "markdown",
   "metadata": {},
   "source": [
    "Gibbs sampling assumes that we know the forms of the joint and conditional distributions. Given that $p(x, y) \\propto p(x|y)$, we can thus sample from the conditional distributions. E.g. A number of experiments, k, are performed where we flip a coin n times (unknown). The coin is biased such that $p(heads) = \\theta$.\n",
    "\n",
    "- $n \\sim U(5, 8)$\n",
    "- $\\theta \\sim U(0, 1) = beta(1, 1)$\n",
    "\n",
    "This gives us a sequence with the number of heads that were thrown: $X = (x_1, x_2, .., x_k)$. We are aiming to find $p(n, \\theta | X) \\propto p(X | n, \\theta)p(n, \\theta) = Zp(X | n, \\theta)$. \n",
    "\n",
    "$$p(n, \\theta | X) \\propto \\prod^k_{i=1} C^n_{x_i} \\theta^{x_i} (1-\\theta)^{n-x_i}$$\n",
    "$$= \\theta^{\\sum+_{i=1}^k x_i}(1-\\theta)^{\\sum_{i=1}^k n-x_i} \\prod_{i=1}^k  C^n_{x_i}$$\n",
    "$$\\theta^k\\hat{x}(1-\\theta)^{k(n-\\hat{x})} \\prod_{i=1}^k  C^n_{x_i}$$\n",
    "\n",
    "Above is the joint probability upto a constant of proportionality. Next we need to find the conditionals, which we can do by simply splitting the above into $f_1(n)f_2(\\theta)$.\n",
    "\n",
    "$$p(\\theta |n, X) \\propto \\theta^k\\hat{x}(1-\\theta)^{k(n-\\hat{x})} = beta(k\\hat{x}+1, k(n-\\hat{x})+1)$$\n",
    "$$p(n |\\theta, X) \\propto (1-\\theta)^{kn}\\prod_{i=1}^k  C^n_{x_i}$$\n",
    "\n",
    "Note that there is no \"nice\" form for $p(n | \\theta, X)$ here. But what we can do, is we know $n \\in \\{5, 6, 7, 8\\}$, so we can use these values and sum them up to get a categorical distribution by normalising with them.\n",
    "\n",
    "Gibbs sampling here then works simply by choosing some random starting point and then iteratively sampling from each of these two conditionals."
   ]
  },
  {
   "cell_type": "markdown",
   "metadata": {},
   "source": [
    "## 3.3. Gibbs Sampling for TrueSkill <a name=\"gibbs_sampling_for_trueskill\"></a>\n",
    "[Back to Top](#contents)\n",
    "\n",
    "For **our problem**, we have 107 different players, and hence are sampling from 107 different conditional distributions for thier skills. Consider the distribution $p(x) = p(x_{1:d})$. The gibbs sampling algorithm is as follows:\n",
    "\n",
    "\n",
    "> 1. Initialise $\\{x_i : i = 1, .., d\\}$\n",
    "> 2. For $\\tau = 1, ..., T$: <br>\n",
    "    > &nbsp;&nbsp;&nbsp;&nbsp; For $i = 1, ..., d$: <br>\n",
    "        > &nbsp;&nbsp;&nbsp;&nbsp;&nbsp;&nbsp;&nbsp;&nbsp; Sample $x_{i}^{\\tau+1} \\sim p(x_i|x_{\\backslash i}^{(\\tau)})$\n",
    "        \n",
    "**Try over-relaxation?**"
   ]
  },
  {
   "cell_type": "markdown",
   "metadata": {},
   "source": [
    "![GibbsSampling](Figures/GibbsSampling.jpg)\n",
    "\n",
    "Above is an illustration of Gibbs sampmling by alternate updates of two variables, whose distribution is a correlated GAussian. The step size is govened by the standard deviation of the  <span style=\"color:green\">condiditional distribution</span>, and is O(l), leading to slow progression in the direction of elongation of the <span style=\"color:red\">joint distribution</span>. The number of steps needed to obtain an independent sample from the distribution is $O((\\frac{L}{l})^2)$. I.e. **Strong correlations slow down gibbs sampling**."
   ]
  },
  {
   "cell_type": "markdown",
   "metadata": {},
   "source": [
    "In **True Skill** the joint distribution $p(w_{1:d}, t_{1:G})$ is intractable. However, the two conditionals are tractable and have already been derived to be:\n",
    "\n",
    "- **Performance given skill difference**: $p(t_g | w_{I_g}, w_{J_g}, y_g) = \\frac{p(y|t) p(t|w_1, w_2)}{p(y)} \\propto \\delta(y_g - sign(t_g)) \\mathcal{N}(t_g;  w_{I_g} - w_{J_g}, 1)$\n",
    "- **Skills given performances**: $p( \\boldsymbol{w} | \\boldsymbol{t}, \\boldsymbol{y}) = p( \\boldsymbol{w} | \\boldsymbol{t}) \\propto p(\\boldsymbol{w}) \\prod_{g=1}^G p(t_g | w_{I_g}, w_{J_g})  =  p(\\boldsymbol {w}; \\boldsymbol{\\mu}_0, \\Sigma_0) \\prod_{g=1}^G \\mathcal{N}(\\boldsymbol{w}; \\boldsymbol{\\mu}_g, \\Sigma_g)$\n",
    "\n",
    "We can describe the two above distributions in more detail:"
   ]
  },
  {
   "cell_type": "markdown",
   "metadata": {},
   "source": [
    "#### For the conditional posterior of skills (skills given performances) we get:\n",
    "\n",
    "$$p(t_g|w_{I_g}, w_{J_g}) = \\mathcal{N}(t_g; (w_{I_g} - w_{J_g}), 1) \\propto exp(-\\frac{1}{2}(t_g-(w_{I_g} - w_{J_g}))^2 )$$\n",
    "\n",
    "renaming $t_g = \\mu_1 - \\mu_2$\n",
    "\n",
    "$$\\propto exp(-\\frac{1}{2}((w_{I_g} - \\mu_1) - ( w_{J_g} - \\mu_2) )^2 )$$\n",
    "\n",
    "$$ \\propto exp \\bigg( -\\frac{1}{2} \n",
    "\\left[\\begin{array}{c} w_{I_g} - \\mu_1 \\\\ w_{J_g} - \\mu_2 \\end{array}\\right]\n",
    "\\left[\\begin{array}{cc} 1 & -1 \\\\ -1 & 1 \\end{array}\\right]\n",
    "\\left[\\begin{array}{c} w_{I_g} - \\mu_1 \\\\ w_{J_g} - \\mu_2 \\end{array}\\right] \\bigg)\n",
    "$$\n",
    "\n",
    "Recall that when multiplying gaussians, the precisions add up and the means weighted by the precisions also add up:\n",
    "\n",
    "- $\\Sigma_c^{-1} = \\Sigma_a^{-1} + \\Sigma_b^{-1}$\n",
    "- $\\mu_c = \\Sigma_c(\\Sigma_a^{-1}\\mu_a +  \\Sigma_b^{-1} \\mu_b)$\n",
    "\n",
    "Thus:\n",
    "\n",
    "$$p(\\boldsymbol {w}; \\boldsymbol{\\mu}_0, \\Sigma_0) \\prod_{g=1}^G \\mathcal{N}(\\boldsymbol{w}; \\boldsymbol{\\mu}_g, \\Sigma_g) = \\mathcal{N}(\\boldsymbol{w}; \\mu, \\Sigma)$$\n",
    "\n",
    "Where each game precision, $\\Sigma_g^{-1}$ contains only 4 non-zero entries, the full precisions and means are:\n",
    "\n",
    "- $\\Sigma^{-1} = \\Sigma_0^{-1} + \\sum_{g=1}^G \\Sigma_g^{-1}  = \\Sigma_0^{-1} + \\tilde{\\Sigma}^{-1}$\n",
    "- $\\mu = \\Sigma(\\Sigma_0^{-1}\\mu_0 + \\sum_{g=1}^G \\Sigma_g^{-1}\\mu_g) = \\Sigma(\\Sigma_0^{-1}\\mu_0 + \\tilde{\\mu})$\n",
    "\n",
    "defining these further:\n",
    "\n",
    "$$\\tilde{\\mu}_i = \\sum_{g=1}^G t_g(\\delta(i-I_g) - \\delta(i-J_g))$$\n",
    "\n",
    "\n",
    "$$ [ \\tilde{\\Sigma}^{-1} ]_{ij}  = \\bigg\\{  \\begin{array}{c} \\sum_{g=1}^G \\delta(i-I_g) + \\delta(i-J_g) \\; \\; \\; for \\; i = j \\\\ \\sum_{g=1}^G \\delta(i-I_g)\\delta(j-J_g) + \\delta(i-J_g)\\delta(j-I_g) \\; \\; \\; for \\; i \\neq j  \\end{array} $$\n",
    "\n",
    "The conditional skills can be jointly sampled directly using the cholesky factorization."
   ]
  },
  {
   "cell_type": "markdown",
   "metadata": {},
   "source": [
    "#### For the conditional posterior of the performances (performance given skill difference), \n",
    "\n",
    "we get a truncated gaussian that needs no further analysis, however the question becomes how do we sample from it? The inverse transformation method, or rejection sampling are both possibilities."
   ]
  },
  {
   "cell_type": "markdown",
   "metadata": {},
   "source": [
    "## 3.4. Implementation <a name=\"implementation\"></a>\n",
    "[Back to Top](#contents)"
   ]
  },
  {
   "cell_type": "code",
   "execution_count": 5,
   "metadata": {},
   "outputs": [],
   "source": [
    "def gibbs_sampler(total_iters, players=PLAYERS, games=GAMES):\n",
    "    num_players, num_games = len(players), len(games)\n",
    "    \n",
    "    skill_samples = np.zeros(shape=(num_players, total_iters))\n",
    "    prior_skill_vars = 0.5*np.ones(shape=(num_players))\n",
    "    skills = np.zeros(shape=(num_players))\n",
    "    \n",
    "    for i in range(total_iters):\n",
    "        ##### 1. SAMPLE p(performance_diffs | skills, outcomes)\n",
    "        p_diffs = np.zeros(shape=(num_games))  # one peformance diff for each game\n",
    "        for g in range(num_games):\n",
    "            skill_diff = skills[games.at[g, 'winner']] - skills[games.at[g, 'loser']]\n",
    "            \n",
    "            # rejection sampling. Only positive performance diffs are accepted\n",
    "            p_diffs[g] = skill_diff + np.random.randn()\n",
    "            while p_diffs[g] < 0:\n",
    "                p_diffs[g] = skill_diff + np.random.randn()\n",
    "                   \n",
    "        ##### 2. SAMPLE p(skills | performance_diffs)\n",
    "        skills_mean = np.zeros(shape=(num_players))\n",
    "        for p in range(num_players):\n",
    "            skills_mean[p] = np.dot(p_diffs, ((games['winner'] - p) == 0).astype(np.int32) - ((games['loser'] - p) == 0).astype(np.int32))            \n",
    "        \n",
    "        skills_precision = np.zeros(shape=(num_players, num_players))\n",
    "        for g in range(num_games):\n",
    "            skills_precision[games.at[g, 'winner'], games.at[g, 'winner']] += 1\n",
    "            skills_precision[games.at[g, 'loser'], games.at[g, 'loser']] += 1\n",
    "            skills_precision[games.at[g, 'winner'], games.at[g, 'loser']] -= 1\n",
    "            skills_precision[games.at[g, 'loser'], games.at[g, 'winner']] -= 1 \n",
    "        skills_precision = np.diag(1.0 /prior_skill_vars) + skills_precision\n",
    "        \n",
    "        # cholesky decomposition of the precision matrix so we can sample from a multivariate gaussian\n",
    "        chol = scipy.linalg.cho_factor(skills_precision) # (107x107 upper tri chol decomp, bower=false)\n",
    "        mu = scipy.linalg.cho_solve(c_and_lower=chol, b=skills_mean, check_finite=False) # solve C.mu=b, mu=107x0\n",
    "        sample = mu + scipy.linalg.solve_triangular(chol[0], np.random.randn(num_players, 1), check_finite=False).flatten() # 107x107\n",
    "        \n",
    "        skill_samples[:, i] = sample\n",
    "        \n",
    "    return skill_samples"
   ]
  },
  {
   "cell_type": "code",
   "execution_count": 6,
   "metadata": {},
   "outputs": [
    {
     "data": {
      "text/html": [
       "<div>\n",
       "<style scoped>\n",
       "    .dataframe tbody tr th:only-of-type {\n",
       "        vertical-align: middle;\n",
       "    }\n",
       "\n",
       "    .dataframe tbody tr th {\n",
       "        vertical-align: top;\n",
       "    }\n",
       "\n",
       "    .dataframe thead th {\n",
       "        text-align: right;\n",
       "    }\n",
       "</style>\n",
       "<table border=\"1\" class=\"dataframe\">\n",
       "  <thead>\n",
       "    <tr style=\"text-align: right;\">\n",
       "      <th>name</th>\n",
       "      <th>Rafael-Nadal</th>\n",
       "      <th>Juan-Monaco</th>\n",
       "      <th>Juan-Martin-Del-Potro</th>\n",
       "      <th>Mardy-Fish</th>\n",
       "      <th>Roger-Federer</th>\n",
       "      <th>Jo-Wilfried-Tsonga</th>\n",
       "      <th>Guillermo-Garcia-Lopez</th>\n",
       "      <th>Florian-Mayer</th>\n",
       "      <th>Milos-Raonic</th>\n",
       "      <th>Santiago-Giraldo</th>\n",
       "      <th>...</th>\n",
       "      <th>Juan-Sebastian-Cabal</th>\n",
       "      <th>Colin-Fleming</th>\n",
       "      <th>Santiago-Gonzalez</th>\n",
       "      <th>Marc-Lopez</th>\n",
       "      <th>Rohan-Bopanna</th>\n",
       "      <th>Michael-Kohlmann</th>\n",
       "      <th>Simon-Aspelin</th>\n",
       "      <th>Mikhail-Elgin</th>\n",
       "      <th>Robert-Lindstedt</th>\n",
       "      <th>Jean-Julien-Rojer</th>\n",
       "    </tr>\n",
       "  </thead>\n",
       "  <tbody>\n",
       "    <tr>\n",
       "      <th>count</th>\n",
       "      <td>1100.000000</td>\n",
       "      <td>1100.000000</td>\n",
       "      <td>1100.000000</td>\n",
       "      <td>1100.000000</td>\n",
       "      <td>1100.000000</td>\n",
       "      <td>1100.000000</td>\n",
       "      <td>1100.000000</td>\n",
       "      <td>1100.000000</td>\n",
       "      <td>1100.000000</td>\n",
       "      <td>1100.000000</td>\n",
       "      <td>...</td>\n",
       "      <td>1100.000000</td>\n",
       "      <td>1100.000000</td>\n",
       "      <td>1100.000000</td>\n",
       "      <td>1100.000000</td>\n",
       "      <td>1100.000000</td>\n",
       "      <td>1100.000000</td>\n",
       "      <td>1100.000000</td>\n",
       "      <td>1100.000000</td>\n",
       "      <td>1100.000000</td>\n",
       "      <td>1100.000000</td>\n",
       "    </tr>\n",
       "    <tr>\n",
       "      <th>mean</th>\n",
       "      <td>0.766720</td>\n",
       "      <td>0.148996</td>\n",
       "      <td>0.438059</td>\n",
       "      <td>0.325265</td>\n",
       "      <td>0.764852</td>\n",
       "      <td>0.462228</td>\n",
       "      <td>-0.171172</td>\n",
       "      <td>0.298390</td>\n",
       "      <td>0.235084</td>\n",
       "      <td>-0.012638</td>\n",
       "      <td>...</td>\n",
       "      <td>-0.532143</td>\n",
       "      <td>-0.207541</td>\n",
       "      <td>0.031671</td>\n",
       "      <td>-0.108240</td>\n",
       "      <td>-0.394746</td>\n",
       "      <td>-0.403069</td>\n",
       "      <td>-0.237297</td>\n",
       "      <td>-0.626111</td>\n",
       "      <td>-0.185964</td>\n",
       "      <td>-0.444167</td>\n",
       "    </tr>\n",
       "    <tr>\n",
       "      <th>std</th>\n",
       "      <td>0.153757</td>\n",
       "      <td>0.182495</td>\n",
       "      <td>0.164519</td>\n",
       "      <td>0.171706</td>\n",
       "      <td>0.159190</td>\n",
       "      <td>0.157105</td>\n",
       "      <td>0.201560</td>\n",
       "      <td>0.167741</td>\n",
       "      <td>0.199908</td>\n",
       "      <td>0.188817</td>\n",
       "      <td>...</td>\n",
       "      <td>0.555764</td>\n",
       "      <td>0.613788</td>\n",
       "      <td>0.530922</td>\n",
       "      <td>0.542743</td>\n",
       "      <td>0.459271</td>\n",
       "      <td>0.625530</td>\n",
       "      <td>0.596869</td>\n",
       "      <td>0.393588</td>\n",
       "      <td>0.611365</td>\n",
       "      <td>0.639229</td>\n",
       "    </tr>\n",
       "    <tr>\n",
       "      <th>min</th>\n",
       "      <td>0.252446</td>\n",
       "      <td>-0.448460</td>\n",
       "      <td>-0.180885</td>\n",
       "      <td>-0.231634</td>\n",
       "      <td>0.231858</td>\n",
       "      <td>-0.053540</td>\n",
       "      <td>-0.855386</td>\n",
       "      <td>-0.181887</td>\n",
       "      <td>-0.504877</td>\n",
       "      <td>-0.532068</td>\n",
       "      <td>...</td>\n",
       "      <td>-2.316391</td>\n",
       "      <td>-2.385836</td>\n",
       "      <td>-1.556304</td>\n",
       "      <td>-1.955026</td>\n",
       "      <td>-1.646451</td>\n",
       "      <td>-2.859589</td>\n",
       "      <td>-2.131838</td>\n",
       "      <td>-1.855749</td>\n",
       "      <td>-1.986028</td>\n",
       "      <td>-2.523427</td>\n",
       "    </tr>\n",
       "    <tr>\n",
       "      <th>25%</th>\n",
       "      <td>0.663004</td>\n",
       "      <td>0.021271</td>\n",
       "      <td>0.334476</td>\n",
       "      <td>0.211207</td>\n",
       "      <td>0.657281</td>\n",
       "      <td>0.364600</td>\n",
       "      <td>-0.297985</td>\n",
       "      <td>0.186866</td>\n",
       "      <td>0.103709</td>\n",
       "      <td>-0.143965</td>\n",
       "      <td>...</td>\n",
       "      <td>-0.916053</td>\n",
       "      <td>-0.622549</td>\n",
       "      <td>-0.318847</td>\n",
       "      <td>-0.475604</td>\n",
       "      <td>-0.722028</td>\n",
       "      <td>-0.808254</td>\n",
       "      <td>-0.635746</td>\n",
       "      <td>-0.894107</td>\n",
       "      <td>-0.597092</td>\n",
       "      <td>-0.874426</td>\n",
       "    </tr>\n",
       "    <tr>\n",
       "      <th>50%</th>\n",
       "      <td>0.762627</td>\n",
       "      <td>0.149453</td>\n",
       "      <td>0.436668</td>\n",
       "      <td>0.325844</td>\n",
       "      <td>0.770081</td>\n",
       "      <td>0.461680</td>\n",
       "      <td>-0.170079</td>\n",
       "      <td>0.289428</td>\n",
       "      <td>0.236238</td>\n",
       "      <td>-0.017419</td>\n",
       "      <td>...</td>\n",
       "      <td>-0.527144</td>\n",
       "      <td>-0.198111</td>\n",
       "      <td>0.037787</td>\n",
       "      <td>-0.120613</td>\n",
       "      <td>-0.393050</td>\n",
       "      <td>-0.396003</td>\n",
       "      <td>-0.221067</td>\n",
       "      <td>-0.625570</td>\n",
       "      <td>-0.178143</td>\n",
       "      <td>-0.454239</td>\n",
       "    </tr>\n",
       "    <tr>\n",
       "      <th>75%</th>\n",
       "      <td>0.863142</td>\n",
       "      <td>0.278424</td>\n",
       "      <td>0.549107</td>\n",
       "      <td>0.438736</td>\n",
       "      <td>0.872565</td>\n",
       "      <td>0.569253</td>\n",
       "      <td>-0.036855</td>\n",
       "      <td>0.414308</td>\n",
       "      <td>0.365841</td>\n",
       "      <td>0.117356</td>\n",
       "      <td>...</td>\n",
       "      <td>-0.118894</td>\n",
       "      <td>0.221088</td>\n",
       "      <td>0.395706</td>\n",
       "      <td>0.246969</td>\n",
       "      <td>-0.066142</td>\n",
       "      <td>0.005048</td>\n",
       "      <td>0.176786</td>\n",
       "      <td>-0.362518</td>\n",
       "      <td>0.224996</td>\n",
       "      <td>-0.027509</td>\n",
       "    </tr>\n",
       "    <tr>\n",
       "      <th>max</th>\n",
       "      <td>1.342297</td>\n",
       "      <td>0.815419</td>\n",
       "      <td>0.959269</td>\n",
       "      <td>0.877255</td>\n",
       "      <td>1.249033</td>\n",
       "      <td>1.061943</td>\n",
       "      <td>0.495676</td>\n",
       "      <td>0.834130</td>\n",
       "      <td>0.860028</td>\n",
       "      <td>0.592565</td>\n",
       "      <td>...</td>\n",
       "      <td>1.180956</td>\n",
       "      <td>1.672668</td>\n",
       "      <td>2.168258</td>\n",
       "      <td>1.778640</td>\n",
       "      <td>0.828458</td>\n",
       "      <td>1.597845</td>\n",
       "      <td>1.637560</td>\n",
       "      <td>0.834449</td>\n",
       "      <td>1.719522</td>\n",
       "      <td>1.671245</td>\n",
       "    </tr>\n",
       "  </tbody>\n",
       "</table>\n",
       "<p>8 rows × 107 columns</p>\n",
       "</div>"
      ],
      "text/plain": [
       "name   Rafael-Nadal  Juan-Monaco  Juan-Martin-Del-Potro   Mardy-Fish  \\\n",
       "count   1100.000000  1100.000000            1100.000000  1100.000000   \n",
       "mean       0.766720     0.148996               0.438059     0.325265   \n",
       "std        0.153757     0.182495               0.164519     0.171706   \n",
       "min        0.252446    -0.448460              -0.180885    -0.231634   \n",
       "25%        0.663004     0.021271               0.334476     0.211207   \n",
       "50%        0.762627     0.149453               0.436668     0.325844   \n",
       "75%        0.863142     0.278424               0.549107     0.438736   \n",
       "max        1.342297     0.815419               0.959269     0.877255   \n",
       "\n",
       "name   Roger-Federer  Jo-Wilfried-Tsonga  Guillermo-Garcia-Lopez  \\\n",
       "count    1100.000000         1100.000000             1100.000000   \n",
       "mean        0.764852            0.462228               -0.171172   \n",
       "std         0.159190            0.157105                0.201560   \n",
       "min         0.231858           -0.053540               -0.855386   \n",
       "25%         0.657281            0.364600               -0.297985   \n",
       "50%         0.770081            0.461680               -0.170079   \n",
       "75%         0.872565            0.569253               -0.036855   \n",
       "max         1.249033            1.061943                0.495676   \n",
       "\n",
       "name   Florian-Mayer  Milos-Raonic  Santiago-Giraldo        ...          \\\n",
       "count    1100.000000   1100.000000       1100.000000        ...           \n",
       "mean        0.298390      0.235084         -0.012638        ...           \n",
       "std         0.167741      0.199908          0.188817        ...           \n",
       "min        -0.181887     -0.504877         -0.532068        ...           \n",
       "25%         0.186866      0.103709         -0.143965        ...           \n",
       "50%         0.289428      0.236238         -0.017419        ...           \n",
       "75%         0.414308      0.365841          0.117356        ...           \n",
       "max         0.834130      0.860028          0.592565        ...           \n",
       "\n",
       "name   Juan-Sebastian-Cabal  Colin-Fleming  Santiago-Gonzalez   Marc-Lopez  \\\n",
       "count           1100.000000    1100.000000        1100.000000  1100.000000   \n",
       "mean              -0.532143      -0.207541           0.031671    -0.108240   \n",
       "std                0.555764       0.613788           0.530922     0.542743   \n",
       "min               -2.316391      -2.385836          -1.556304    -1.955026   \n",
       "25%               -0.916053      -0.622549          -0.318847    -0.475604   \n",
       "50%               -0.527144      -0.198111           0.037787    -0.120613   \n",
       "75%               -0.118894       0.221088           0.395706     0.246969   \n",
       "max                1.180956       1.672668           2.168258     1.778640   \n",
       "\n",
       "name   Rohan-Bopanna  Michael-Kohlmann  Simon-Aspelin  Mikhail-Elgin  \\\n",
       "count    1100.000000       1100.000000    1100.000000    1100.000000   \n",
       "mean       -0.394746         -0.403069      -0.237297      -0.626111   \n",
       "std         0.459271          0.625530       0.596869       0.393588   \n",
       "min        -1.646451         -2.859589      -2.131838      -1.855749   \n",
       "25%        -0.722028         -0.808254      -0.635746      -0.894107   \n",
       "50%        -0.393050         -0.396003      -0.221067      -0.625570   \n",
       "75%        -0.066142          0.005048       0.176786      -0.362518   \n",
       "max         0.828458          1.597845       1.637560       0.834449   \n",
       "\n",
       "name   Robert-Lindstedt  Jean-Julien-Rojer  \n",
       "count       1100.000000        1100.000000  \n",
       "mean          -0.185964          -0.444167  \n",
       "std            0.611365           0.639229  \n",
       "min           -1.986028          -2.523427  \n",
       "25%           -0.597092          -0.874426  \n",
       "50%           -0.178143          -0.454239  \n",
       "75%            0.224996          -0.027509  \n",
       "max            1.719522           1.671245  \n",
       "\n",
       "[8 rows x 107 columns]"
      ]
     },
     "metadata": {},
     "output_type": "display_data"
    },
    {
     "name": "stdout",
     "output_type": "stream",
     "text": [
      "Wall time: 2min 13s\n"
     ]
    }
   ],
   "source": [
    "%%time\n",
    "skill_samples = gibbs_sampler(1100)\n",
    "skill_samples = pd.DataFrame(data=skill_samples.T, columns=PLAYERS['name'])\n",
    "display(skill_samples.describe()) # there are tot_iters rows and each row is a person"
   ]
  },
  {
   "cell_type": "markdown",
   "metadata": {},
   "source": [
    "## 3.5. Iterations and Autocorrelation <a name=\"iterations_and_autocorrelation\"></a>\n",
    "[Back to Top](#contents)"
   ]
  },
  {
   "cell_type": "code",
   "execution_count": 8,
   "metadata": {},
   "outputs": [],
   "source": [
    "def plot_skill_vs_iter(skill_samples, players):\n",
    "    fig, ax = plt.subplots(nrows=1, ncols=1, figsize=(11, 4))  # preferred to plt.plot\n",
    "    \n",
    "    # use pandas to plot things... it's better than matplotlib\n",
    "    skill_samples[players].plot(ax=ax, alpha=0.5)\n",
    "    ax.set_xlabel('Iterations')\n",
    "    ax.set_ylabel('Player Skill')"
   ]
  },
  {
   "cell_type": "code",
   "execution_count": 9,
   "metadata": {},
   "outputs": [
    {
     "data": {
      "image/png": "[encoded data removed]",
      "text/plain": [
       "<Figure size 792x288 with 1 Axes>"
      ]
     },
     "metadata": {},
     "output_type": "display_data"
    }
   ],
   "source": [
    "player_names=['Rafael-Nadal', 'Roger-Federer', 'Rohan-Bopanna']\n",
    "plot_skill_vs_iter(skill_samples, player_names)"
   ]
  },
  {
   "cell_type": "code",
   "execution_count": 10,
   "metadata": {},
   "outputs": [],
   "source": [
    "def plot_autocorrelations(skill_samples, players):\n",
    "    max_lag=10    \n",
    "    autocor = pd.DataFrame(columns=players, index=range(max_lag))\n",
    "    \n",
    "    for p in players:\n",
    "        for i in range(max_lag):\n",
    "            autocor.at[i, p] = pd.Series.autocorr(pd.Series(skill_samples[p].values), lag=i)\n",
    "     \n",
    "    autocor.plot()"
   ]
  },
  {
   "cell_type": "code",
   "execution_count": 11,
   "metadata": {},
   "outputs": [
    {
     "data": {
      "image/png": "[encoded data removed]",
      "text/plain": [
       "<Figure size 432x288 with 1 Axes>"
      ]
     },
     "metadata": {},
     "output_type": "display_data"
    }
   ],
   "source": [
    "plot_autocorrelations(skill_samples, player_names)"
   ]
  },
  {
   "cell_type": "code",
   "execution_count": 237,
   "metadata": {},
   "outputs": [],
   "source": [
    "def gaussian_distribution(x, mu, s):\n",
    "    exponent = -0.5*((x-mu)/s)**2\n",
    "    Z = (s * np.sqrt(2*np.pi))\n",
    "    return np.exp(exponent) / Z"
   ]
  },
  {
   "cell_type": "markdown",
   "metadata": {},
   "source": [
    "# 4. Message Passing <a name=\"message_passing\"></a>"
   ]
  },
  {
   "cell_type": "markdown",
   "metadata": {},
   "source": [
    "## 4.1. Inference and Factor Graphs\n",
    "[Back to Top](#contents)"
   ]
  },
  {
   "cell_type": "markdown",
   "metadata": {},
   "source": [
    "Probability distributions often have conditional independence, and therefore, can be written in graphical form. Computing marginals of said distribution can be made much more efficient by taking advantage of the graphical model, simply by rearranging the order of summations and multiplications required."
   ]
  },
  {
   "cell_type": "markdown",
   "metadata": {},
   "source": [
    "We can write any joint distribution over a set of variables in the form of a product of factors:\n",
    "\n",
    "$$p(\\boldsymbol{x}) = \\prod_s f_s(\\boldsymbol{x}_s)$$\n",
    "\n",
    "where $\\boldsymbol{x}_s$ denotes a subset of the variables. Each factor $f_s$ is a function of this set of variables. For example consider the graph:\n",
    "\n",
    "![FactorGraph](Figures/FactorGraphExample.PNG)\n",
    "\n",
    "This has a factorisation of\n",
    "\n",
    "$$p(\\boldsymbol{x}) = f_a(x_1, x_2)f_b(x_1, x_2)f_c(x_2, x_3)f_d(x_3)$$"
   ]
  },
  {
   "cell_type": "markdown",
   "metadata": {},
   "source": [
    "We can convert a directed graph to a factor graph by simply creating variable\n",
    "nodes in the factor graph corresponding to the nodes of the directed graph, and then\n",
    "create factor nodes corresponding to the conditional distributions, and then finally\n",
    "add the appropriate links. There can be multiple factor graphs all of which\n",
    "correspond to the same directed graph.\n",
    "\n",
    "![FactorGraph2](Figures/FactorGraphExample2.PNG)\n",
    "\n",
    "The directed graph here corresponds to the factorisation:\n",
    "\n",
    "$$p(x_1, x_2, x_3) = p(x_1)p(x_2)p(x_3|x_1, x_2)$$\n",
    "\n",
    "And the factor graphs have factors equal to:\n",
    "$$b) \\;\\; f(x_1, x_2, x_3) = p(x_1)p(x_2)p(x_3|x_1, x_2)$$\n",
    "$$c) \\;\\; f_a(x_1) = p(x_1), \\; f_b(x_2) = p(x_2), \\; f_c(x_1, x_2, x_3) = p(x_3|x_1, x_2)$$"
   ]
  },
  {
   "cell_type": "markdown",
   "metadata": {},
   "source": [
    "In TrueSkill, the factor graph that is relevent to the directed graph given in section 1.1. is\n",
    "\n",
    "![TrueSkillFactorGraph](Figures/FactorGraph.JPG)"
   ]
  },
  {
   "cell_type": "markdown",
   "metadata": {},
   "source": [
    "## 4.2. The Sum-Product Algorithm\n",
    "[Back to Top](#contents)"
   ]
  },
  {
   "cell_type": "markdown",
   "metadata": {},
   "source": [
    "\n",
    "Note that each message comprises a set of K values, one for each choice of x_n, and so the product of two messages should be interpreted as the point-wise multiplication of the elements of the two messages to give another set of K values.\n",
    "\n",
    "Note that each message has passed once in each direction across each link in the graph, and that the normalisation constant Z need only be evaluated once (using any convenient note).\n",
    "\n",
    "If some nodes in the graph are observed, then the corresponding vaariables are simply clamped to their observed values and there is no summation."
   ]
  },
  {
   "cell_type": "markdown",
   "metadata": {},
   "source": [
    "## 4.3. The Sum-Product Algorithm\n",
    "[Back to Top](#contents)"
   ]
  },
  {
   "cell_type": "markdown",
   "metadata": {},
   "source": [
    "## 4.4. Message Passing in TrueSkill\n",
    "[Back to Top](#contents)"
   ]
  },
  {
   "cell_type": "code",
   "execution_count": null,
   "metadata": {},
   "outputs": [],
   "source": []
  }
 ],
 "metadata": {
  "kernelspec": {
   "display_name": "Python 3",
   "language": "python",
   "name": "python3"
  },
  "language_info": {
   "codemirror_mode": {
    "name": "ipython",
    "version": 3
   },
   "file_extension": ".py",
   "mimetype": "text/x-python",
   "name": "python",
   "nbconvert_exporter": "python",
   "pygments_lexer": "ipython3",
   "version": "3.6.5"
  }
 },
 "nbformat": 4,
 "nbformat_minor": 2
}
