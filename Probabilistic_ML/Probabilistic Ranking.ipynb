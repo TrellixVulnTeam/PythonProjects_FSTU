{
 "cells": [
  {
   "cell_type": "code",
   "execution_count": 1,
   "metadata": {},
   "outputs": [],
   "source": [
    "import numpy as np\n",
    "import pandas as pd\n",
    "import scipy\n",
    "import sklearn\n",
    "import scipy\n",
    "from IPython.display import display\n",
    "import matplotlib.pyplot as plt"
   ]
  },
  {
   "cell_type": "markdown",
   "metadata": {},
   "source": [
    "# Table of Contents <a name=\"contents\"></a>\n",
    "- [**1. Introduction**](#introduction)\n",
    "    - [1.1. A Generative Model for Skill](#a_generative_model_for_skill)\n",
    "    - [1.2. Outcome given Skills](#outcome_given_skills)\n",
    "    - [1.3. Skills given Outcome, and the Evidence](#skills_given_outcome_and_the_evidence)\n",
    "    - [1.4. Computing the Conditionals](#computing_the_conditionals)\n",
    "- [**2. Load the Data**](#load_the_data)\n",
    "- [**3. Gibbs Rank**](#gibbs_rank)\n",
    "    - [3.1. Integration of an Intractable Posterior](#integration_of_an_intractable_posterior)\n",
    "    - [3.2. Gibbs Sampling](#gibbs_sampling)\n",
    "    - [3.3. Gibbs Sampling for TrueSkill](#gibbs_sampling_for_trueskill)\n",
    "    - [3.4. Implementation](#implementation_gr)\n",
    "    - [3.5. Iterations and Autocorrelation](#iterations_and_autocorrelation)\n",
    "- [**4. Message Passing**](#message_passing)\n",
    "    - [4.1. Inference and Factor Graphs](#inference_and_factor_graphs)\n",
    "    - [4.2. The Sum-Product Algorithm](#the_sum_product_algorithm)\n",
    "    - [4.3. Message Passing in TrueSkill](#message_passing_in_true_skill)\n",
    "    - [4.4. Approximating Performance Marginals](#approximating_performance_marginals)\n",
    "    - [4.5. Implementation](#implementation_mp)\n",
    "- [**5. Analysis and Discussion**](#analysis_and_discussion)"
   ]
  },
  {
   "cell_type": "markdown",
   "metadata": {},
   "source": [
    "# 1. Introduction <a name=\"introduction\"></a>"
   ]
  },
  {
   "cell_type": "markdown",
   "metadata": {},
   "source": [
    "Ranking systems have many different applications, however most common ones are poor as they rely on arbitrary conventions which lead to poor proformance. In general, they try to answer they question **What is the probability that player 1 defeats player 2?**. In order to determine this probabilistically, there are a number of things to consider:\n",
    "\n",
    "- Considers who you played against.\n",
    "- Must be robust against players who have not played against eachother.\n",
    "- Give a good estimate at any point in the season.\n",
    "- Take into account performance inconsistancy.\n",
    "\n",
    "Therefore, what we want to infer is the player's **skill**, $w$. These skills must be comparable (i.e. a player with a higher skill must be more likely to win), and as such we want to do a probabilstic inference of a player's skill and be able to compute the probability of a game's outcome."
   ]
  },
  {
   "cell_type": "markdown",
   "metadata": {},
   "source": [
    "## 1.1. A generative model for skill <a name=\"a_generative_model_for_skill\"></a>\n",
    "[Back to Top](#contents)\n",
    "\n",
    "A summary of a generative model for game outcomes can be defined as:\n",
    "\n",
    "1. **Skills** Take two players with known skills, $$w_i \\in \\mathbb{R}$$\n",
    "2. **Skill Difference**: $$s = w_1 - w_2$$\n",
    "3. **Performance Difference**: Add noise ($n \\sim \\mathcal{N}(0, 1))$ to account for performance inconsistance: $$t = s + n$$\n",
    "4. **Game outcome** is given by $y=sign(t)$:\n",
    "    - $y = +1$ means player 1 wins\n",
    "    - $y = -1$ means player 2 wins"
   ]
  },
  {
   "cell_type": "markdown",
   "metadata": {},
   "source": [
    "![GenerativeModel](Figures/GenerativeModel.png)"
   ]
  },
  {
   "cell_type": "markdown",
   "metadata": {},
   "source": [
    "The graph above shows part of the directed graph for the TrueSkill model. This encapsulates all of the conditional dependencies described above, and allows the joint distribution to be written as:\n",
    "\n",
    "$$p(w_1, w_2, s_{12}, t_{12} | y_{12}) = \\frac{p(w_1, w_2, s_{12}, t_{12}, y_{12})}{p(y)} = \\frac{p(w_1)p(w_2)p(s_{12}|w_1, w_2)p(t_{12}|s_{12})p(y_{12}|t_{12})}{p(y)}$$\n",
    "\n",
    "Note that this graphical model is described as \"head-to-head\" because the S nodes are at the head of at least two directed connections. A rule in graphical models is that if any \"head-to-head\" node, or any of its descendents, are observed, the path between parents nodes becomes \"unblocked\". I.e. the skills become dependent on eachother - which makes sense as we cannot determine one players skill without playing them against another.\n",
    "\n",
    "The joint distribution given above is only a very small section of the whole joint distribution, which is almost circular in its dependencies (i.e. there is also an $s_{13}$ and an $s_{1,103}$, and so on - a different s for every game played).\n",
    "\n",
    "We derive the probabilities above in subsequent sections. The aim of this notebook is to derive the marginal distributions $p(w)$ for all players."
   ]
  },
  {
   "cell_type": "markdown",
   "metadata": {},
   "source": [
    "## 1.2. Outcome given Skills <a name=\"outcome_given_skills\"></a>\n",
    "[Back to Top](#contents)\n",
    "    \n",
    "Therefore we can work out the probability that player 1 wins given the players skills':\n",
    "\n",
    "$$p(y| w_1, w_2) = \\int \\int p(y|t) p(t|s) p(s | w_1, w_2) dsdt$$\n",
    "$$ = \\int p(y|t) p(t|w_1, w_2) dt$$\n",
    "$$ = \\int^{+\\infty}_{-\\infty} \\delta(y - sign(t)) \\mathcal{N}(t; w_1 - w_2, 1) dt$$\n",
    "$$ = \\int^{+\\infty}_{-\\infty} \\delta(1 - sign(yt)) \\mathcal{N}(yt; y(w_1 - w_2), 1) dt $$\n",
    "set z = yt and note the change in limits and dt:\n",
    "$$ = \\int^{+y\\infty}_{-y\\infty} \\delta(1 - sign(z)) \\mathcal{N}(z; y(w_1 - w_2), 1) y dz $$\n",
    "$$ = \\int^{+\\infty}_{-\\infty} \\delta(1 -sign(z)) \\mathcal{N}(z; y(w_1 - w_2), 1) dz $$\n",
    "And rearrange the limits:\n",
    "$$ = \\int^{+\\infty}_{0} \\mathcal{N}(z; y(w_1 - w_2), 1) dz $$\n",
    "using $x = y(w_1-w_2) - z$\n",
    "$$ = \\int^{y(w_1 - w_2)}_{-\\infty} \\mathcal{N}(x; 0, 1) dx $$\n",
    "$$ = \\Phi(y(w_1 - w_2))$$\n",
    "\n",
    "where $\\Phi(a)$ is the gaussian c.d.f, or the *probit* function.\n",
    "\n",
    "For the probability of player 1 winning, we simply use $p(y=1| w_1, w_2) = p(t>0| w_1, w_2) = \\Phi(w_1 - w_2)$"
   ]
  },
  {
   "cell_type": "markdown",
   "metadata": {},
   "source": [
    "![PerformanceDifference](Figures/PerformanceDifference.jpg)"
   ]
  },
  {
   "cell_type": "markdown",
   "metadata": {},
   "source": [
    "## 1.3. Skills Given Outcome, and the Evidence <a name=\"skills_given_outcome_and_the_evidence\"></a>\n",
    "[Back to Top](#contents)\n",
    "\n",
    "$$p(w_1, w_2 | y) = \\frac{Priors \\times Likelihood}{Evidence}$$\n",
    "<br>\n",
    "$$ = \\frac{p(w_1)p(w_2) \\times p(y|w_1, w_2)}{\\int \\int p(w_1)p(w_2) \\times p(y|w_1, w_2) dw_1 dw_2}$$\n",
    "<br>\n",
    "$$ = \\frac{\\mathcal{N}(w_1; \\mu_1, \\sigma_1^2) \\mathcal{N}(w_2; \\mu_2, \\sigma_2^2) \\times \\Phi(y(w_1 - w_2))}{\\int \\int \\mathcal{N}(w_1; \\mu_1, \\sigma_1^2) \\mathcal{N}(w_2; \\mu_2, \\sigma_2^2) \\times \\Phi(y(w_1 - w_2)) dw_1 dw_2}$$\n",
    "\n",
    "The joint posterior over skills does not have a closed form as the probit function is not closed. Additionally, $w_1$ and $w_2$ have become correlated due to the priors and therefore does not factorise, nor is it a gaussian density function.\n",
    "\n",
    "Fortunately, the evidence does have a closed form:\n",
    "\n",
    "$$p(y) = \\int \\int \\mathcal{N}(w_1; \\mu_1, \\sigma_1^2) \\mathcal{N}(w_2; \\mu_2, \\sigma_2^2) \\times \\Phi(y(w_1 - w_2)) dw_1 dw_2 = \\Phi \\bigg(\\frac{y(\\mu_1 - \\mu_2)}{\\sqrt{1 + \\sigma_1^2 + \\sigma_2^2}} \\bigg)$$\n",
    "\n",
    "This is effectively a smoother version of the likelihood as we are using mean skills of each player, and normalising over their variances."
   ]
  },
  {
   "cell_type": "markdown",
   "metadata": {},
   "source": [
    "## 1.4. Computing the Conditionals <a name=\"computing_the_conditionals\"></a>\n",
    "[Back to Top](#contents)\n",
    "\n",
    "For notation we have have $g = \\{1, ..., G\\}$ games where $I_g$ is the id of player 1, and $J_g$ is the id of player 1. The outcome of game g is:\n",
    "\n",
    "$$y_g = \\bigg{\\{} \\begin{array}{c} +1 \\; if \\; I_g \\; wins \\\\ -1 \\; if \\; J_g \\; wins \\end{array}$$\n",
    "\n",
    "Note also that the vector of skills is $\\boldsymbol{w} = [w_1, ..., w_d]^T$, (d=107 players) and the vector of performance differences is $\\boldsymbol{t} = [t_1, ..., t_G]^T$.\n",
    "\n",
    "In **True Skill** the joint distribution $p(w_{1:d}, t_{1:G})$ is intractable. However, the two conditionals are tractable and easily derived to be:\n",
    "\n",
    "- **Performance given skill difference**: $p(t_g | w_{I_g}, w_{J_g}, y_g) \\propto \\delta(y_g - sign(t_g)) \\mathcal{N}(t_g;  w_{I_g} - w_{J_g}, 1)$\n",
    "- **Skills given performances**: $p( \\boldsymbol{w} | \\boldsymbol{t}, \\boldsymbol{y}) = p( \\boldsymbol{w} | \\boldsymbol{t}) \\propto p(\\boldsymbol {w}; \\boldsymbol{\\mu}_0, \\Sigma_0) \\prod_{g=1}^G \\mathcal{N}(\\boldsymbol{w}; \\boldsymbol{\\mu}_g, \\Sigma_g)$\n",
    "\n",
    "In order to calculate these, we can take the performance difference directly from the derivation of the evidence:\n",
    "\n",
    "$$p(t | w_1, w_2, y) = p(y|t) p(t|w_1, w_2) = \\delta(y - sign(t)) \\mathcal{N}(t; w_1 - w_2, 1) dt$$\n",
    "\n",
    "and similarly, we note that the priors for skill are $p(w_i) = \\mathcal{N}(w_i | u_i, \\sigma_i^2) \\implies p(\\boldsymbol{w}) = \\prod_{i=1}^d p(w_i) = \\mathcal{N}(\\boldsymbol{w} ; \\boldsymbol{\\mu}_0, \\Sigma_0)$. Thus,\n",
    "\n",
    "$$p( \\boldsymbol{w} | \\boldsymbol{t}) = \\frac{p(\\boldsymbol{w})p(\\boldsymbol{t}| \\boldsymbol{w})}{p(\\boldsymbol{t})} \\propto p(\\boldsymbol{w}) \\prod_{g=1}^G p(t_g | w_{I_g}, w_{J_g}) = \\mathcal{N}(\\boldsymbol{w} ; \\boldsymbol{\\mu}_0, \\Sigma_0) \\prod_{g=1}^G \\mathcal{N}(\\boldsymbol{w}; \\boldsymbol{\\mu}_g, \\Sigma_g)\n",
    "$$"
   ]
  },
  {
   "cell_type": "markdown",
   "metadata": {},
   "source": [
    "# 2. Load the Data <a name=\"load_the_data\"></a>\n",
    "[Back to Top](#contents)"
   ]
  },
  {
   "cell_type": "code",
   "execution_count": 2,
   "metadata": {},
   "outputs": [],
   "source": [
    "import scipy.io\n",
    "mat = scipy.io.loadmat('tennis_data.mat')"
   ]
  },
  {
   "cell_type": "code",
   "execution_count": 3,
   "metadata": {},
   "outputs": [
    {
     "data": {
      "text/html": [
       "<div>\n",
       "<style scoped>\n",
       "    .dataframe tbody tr th:only-of-type {\n",
       "        vertical-align: middle;\n",
       "    }\n",
       "\n",
       "    .dataframe tbody tr th {\n",
       "        vertical-align: top;\n",
       "    }\n",
       "\n",
       "    .dataframe thead th {\n",
       "        text-align: right;\n",
       "    }\n",
       "</style>\n",
       "<table border=\"1\" class=\"dataframe\">\n",
       "  <thead>\n",
       "    <tr style=\"text-align: right;\">\n",
       "      <th></th>\n",
       "      <th>name</th>\n",
       "    </tr>\n",
       "  </thead>\n",
       "  <tbody>\n",
       "    <tr>\n",
       "      <th>0</th>\n",
       "      <td>Rafael-Nadal</td>\n",
       "    </tr>\n",
       "    <tr>\n",
       "      <th>1</th>\n",
       "      <td>Juan-Monaco</td>\n",
       "    </tr>\n",
       "    <tr>\n",
       "      <th>2</th>\n",
       "      <td>Juan-Martin-Del-Potro</td>\n",
       "    </tr>\n",
       "    <tr>\n",
       "      <th>3</th>\n",
       "      <td>Mardy-Fish</td>\n",
       "    </tr>\n",
       "    <tr>\n",
       "      <th>4</th>\n",
       "      <td>Roger-Federer</td>\n",
       "    </tr>\n",
       "  </tbody>\n",
       "</table>\n",
       "</div>"
      ],
      "text/plain": [
       "                    name\n",
       "0           Rafael-Nadal\n",
       "1            Juan-Monaco\n",
       "2  Juan-Martin-Del-Potro\n",
       "3             Mardy-Fish\n",
       "4          Roger-Federer"
      ]
     },
     "metadata": {},
     "output_type": "display_data"
    },
    {
     "data": {
      "text/html": [
       "<div>\n",
       "<style scoped>\n",
       "    .dataframe tbody tr th:only-of-type {\n",
       "        vertical-align: middle;\n",
       "    }\n",
       "\n",
       "    .dataframe tbody tr th {\n",
       "        vertical-align: top;\n",
       "    }\n",
       "\n",
       "    .dataframe thead th {\n",
       "        text-align: right;\n",
       "    }\n",
       "</style>\n",
       "<table border=\"1\" class=\"dataframe\">\n",
       "  <thead>\n",
       "    <tr style=\"text-align: right;\">\n",
       "      <th></th>\n",
       "      <th>winner</th>\n",
       "      <th>loser</th>\n",
       "    </tr>\n",
       "  </thead>\n",
       "  <tbody>\n",
       "    <tr>\n",
       "      <th>0</th>\n",
       "      <td>0</td>\n",
       "      <td>1</td>\n",
       "    </tr>\n",
       "    <tr>\n",
       "      <th>1</th>\n",
       "      <td>0</td>\n",
       "      <td>2</td>\n",
       "    </tr>\n",
       "    <tr>\n",
       "      <th>2</th>\n",
       "      <td>0</td>\n",
       "      <td>2</td>\n",
       "    </tr>\n",
       "    <tr>\n",
       "      <th>3</th>\n",
       "      <td>0</td>\n",
       "      <td>2</td>\n",
       "    </tr>\n",
       "    <tr>\n",
       "      <th>4</th>\n",
       "      <td>0</td>\n",
       "      <td>2</td>\n",
       "    </tr>\n",
       "  </tbody>\n",
       "</table>\n",
       "</div>"
      ],
      "text/plain": [
       "   winner  loser\n",
       "0       0      1\n",
       "1       0      2\n",
       "2       0      2\n",
       "3       0      2\n",
       "4       0      2"
      ]
     },
     "metadata": {},
     "output_type": "display_data"
    },
    {
     "data": {
      "text/plain": [
       "107"
      ]
     },
     "metadata": {},
     "output_type": "display_data"
    },
    {
     "data": {
      "text/plain": [
       "1801"
      ]
     },
     "metadata": {},
     "output_type": "display_data"
    }
   ],
   "source": [
    "PLAYERS = pd.DataFrame(mat['W'], columns=['name']).applymap(lambda x: x[0])  # remove the list around each players name\n",
    "GAMES = pd.DataFrame(mat['G']-1, columns=['winner', 'loser'])  # -1 because player num starts from 1 in matlab\n",
    "display(PLAYERS.head(), GAMES.head())\n",
    "display(len(PLAYERS), len(GAMES))"
   ]
  },
  {
   "cell_type": "markdown",
   "metadata": {},
   "source": [
    "# 3. Gibbs Rank <a name=\"gibbs_rank\"></a>"
   ]
  },
  {
   "cell_type": "markdown",
   "metadata": {},
   "source": [
    "## 3.1. Integration of an Intractable Posterior <a name=\"integration_of_an_intractable_posterior\"></a>\n",
    "[Back to Top](#contents)"
   ]
  },
  {
   "cell_type": "markdown",
   "metadata": {},
   "source": [
    "The basis of Monte-Carlo approximation is:\n",
    "$$\\mathbb{E}_{p(x)} \\big[ \\Phi(x) \\big] \\approx \\hat{\\Phi} = \\frac{1}{T} \\sum^t_{\\tau = 1} \\Phi(x^{(\\tau)}), \\text{  where } x^{(\\tau)} \\sim p(x)$$\n",
    "\n",
    "Note that $x^{(\\tau)}$ is the $\\tau$th d-dimensional sample from the distribution p(x), which is analytically intractable (and typically d>>1).\n",
    "\n",
    "This is infact an unbiased estimate, with $Var[\\hat{\\Phi}] = \\frac{Var[\\Phi]}{T}$. Note $Var[\\Phi] = \\int (\\Phi(x) - \\mathbb{E}[\\Phi])^2 p(x) dx$. Note that this is independent of dimension d, of x.\n",
    "\n",
    "\n",
    "How do we generate samples from p(x)? If the distribution has a standard form then we could generate independent samples, however, it is often difficult to sample from this joint distribution if it is within a high dimensional space (the curse of dimensionality). In order to get around this we can use **Gibbs Sampling**, which uses a Markov Chain to generate dependent samples from the desired distribution:\n",
    "\n",
    "$$x_i' \\sim  p(x_i | x_{1, 2, ..., i-1, i+1, ..., d})$$"
   ]
  },
  {
   "cell_type": "markdown",
   "metadata": {},
   "source": [
    "## 3.2. Gibbs Sampling <a name=\"gibbs_sampling\"></a>\n",
    "[Back to Top](#contents)"
   ]
  },
  {
   "cell_type": "markdown",
   "metadata": {},
   "source": [
    "Gibbs sampling assumes that we know the forms of the joint and conditional distributions. Given that $p(x, y) \\propto p(x|y)$, we can thus sample from the conditional distributions. E.g. A number of experiments, k, are performed where we flip a coin n times (unknown). The coin is biased such that $p(heads) = \\theta$.\n",
    "\n",
    "- $n \\sim U(5, 8)$\n",
    "- $\\theta \\sim U(0, 1) = beta(1, 1)$\n",
    "\n",
    "This gives us a sequence with the number of heads that were thrown: $X = (x_1, x_2, .., x_k)$. We are aiming to find $p(n, \\theta | X) \\propto p(X | n, \\theta)p(n, \\theta) = Zp(X | n, \\theta)$. \n",
    "\n",
    "$$p(n, \\theta | X) \\propto \\prod^k_{i=1} C^n_{x_i} \\theta^{x_i} (1-\\theta)^{n-x_i}$$\n",
    "$$= \\theta^{\\sum+_{i=1}^k x_i}(1-\\theta)^{\\sum_{i=1}^k n-x_i} \\prod_{i=1}^k  C^n_{x_i}$$\n",
    "$$\\theta^k\\hat{x}(1-\\theta)^{k(n-\\hat{x})} \\prod_{i=1}^k  C^n_{x_i}$$\n",
    "\n",
    "Above is the joint probability upto a constant of proportionality. Next we need to find the conditionals, which we can do by simply splitting the above into $f_1(n)f_2(\\theta)$.\n",
    "\n",
    "$$p(\\theta |n, X) \\propto \\theta^k\\hat{x}(1-\\theta)^{k(n-\\hat{x})} = beta(k\\hat{x}+1, k(n-\\hat{x})+1)$$\n",
    "$$p(n |\\theta, X) \\propto (1-\\theta)^{kn}\\prod_{i=1}^k  C^n_{x_i}$$\n",
    "\n",
    "Note that there is no \"nice\" form for $p(n | \\theta, X)$ here. But what we can do, is we know $n \\in \\{5, 6, 7, 8\\}$, so we can use these values and sum them up to get a categorical distribution by normalising with them.\n",
    "\n",
    "Gibbs sampling here then works simply by choosing some random starting point and then iteratively sampling from each of these two conditionals."
   ]
  },
  {
   "cell_type": "markdown",
   "metadata": {},
   "source": [
    "## 3.3. Gibbs Sampling for TrueSkill <a name=\"gibbs_sampling_for_trueskill\"></a>\n",
    "[Back to Top](#contents)\n",
    "\n",
    "For **our problem**, we have 107 different players, and hence are sampling from 107 different conditional distributions for thier skills. Consider the distribution $p(x) = p(x_{1:d})$. The gibbs sampling algorithm is as follows:\n",
    "\n",
    "\n",
    "> 1. Initialise $\\{x_i : i = 1, .., d\\}$\n",
    "> 2. For $\\tau = 1, ..., T$: <br>\n",
    "    > &nbsp;&nbsp;&nbsp;&nbsp; For $i = 1, ..., d$: <br>\n",
    "        > &nbsp;&nbsp;&nbsp;&nbsp;&nbsp;&nbsp;&nbsp;&nbsp; Sample $x_{i}^{\\tau+1} \\sim p(x_i|x_{\\backslash i}^{(\\tau)})$\n",
    "        \n",
    "**Try over-relaxation?**"
   ]
  },
  {
   "cell_type": "markdown",
   "metadata": {},
   "source": [
    "![GibbsSampling](Figures/GibbsSampling.jpg)\n",
    "\n",
    "Above is an illustration of Gibbs sampmling by alternate updates of two variables, whose distribution is a correlated GAussian. The step size is govened by the standard deviation of the  <span style=\"color:green\">condiditional distribution</span>, and is O(l), leading to slow progression in the direction of elongation of the <span style=\"color:red\">joint distribution</span>. The number of steps needed to obtain an independent sample from the distribution is $O((\\frac{L}{l})^2)$. I.e. **Strong correlations slow down gibbs sampling**."
   ]
  },
  {
   "cell_type": "markdown",
   "metadata": {},
   "source": [
    "In **True Skill** the joint distribution $p(w_{1:d}, t_{1:G})$ is intractable. However, the two conditionals are tractable and have already been derived to be:\n",
    "\n",
    "- **Performance given skill difference**: $p(t_g | w_{I_g}, w_{J_g}, y_g) = \\frac{p(y|t) p(t|w_1, w_2)}{p(y)} \\propto \\delta(y_g - sign(t_g)) \\mathcal{N}(t_g;  w_{I_g} - w_{J_g}, 1)$\n",
    "- **Skills given performances**: $p( \\boldsymbol{w} | \\boldsymbol{t}, \\boldsymbol{y}) = p( \\boldsymbol{w} | \\boldsymbol{t}) \\propto p(\\boldsymbol{w}) \\prod_{g=1}^G p(t_g | w_{I_g}, w_{J_g})  =  p(\\boldsymbol {w}; \\boldsymbol{\\mu}_0, \\Sigma_0) \\prod_{g=1}^G \\mathcal{N}(\\boldsymbol{w}; \\boldsymbol{\\mu}_g, \\Sigma_g)$\n",
    "\n",
    "We can describe the two above distributions in more detail:"
   ]
  },
  {
   "cell_type": "markdown",
   "metadata": {},
   "source": [
    "#### For the conditional posterior of skills (skills given performances) we get:\n",
    "\n",
    "$$p(t_g|w_{I_g}, w_{J_g}) = \\mathcal{N}(t_g; (w_{I_g} - w_{J_g}), 1) \\propto exp(-\\frac{1}{2}(t_g-(w_{I_g} - w_{J_g}))^2 )$$\n",
    "\n",
    "renaming $t_g = \\mu_1 - \\mu_2$\n",
    "\n",
    "$$\\propto exp(-\\frac{1}{2}((w_{I_g} - \\mu_1) - ( w_{J_g} - \\mu_2) )^2 )$$\n",
    "\n",
    "$$ \\propto exp \\bigg( -\\frac{1}{2} \n",
    "\\left[\\begin{array}{c} w_{I_g} - \\mu_1 \\\\ w_{J_g} - \\mu_2 \\end{array}\\right]\n",
    "\\left[\\begin{array}{cc} 1 & -1 \\\\ -1 & 1 \\end{array}\\right]\n",
    "\\left[\\begin{array}{c} w_{I_g} - \\mu_1 \\\\ w_{J_g} - \\mu_2 \\end{array}\\right] \\bigg)\n",
    "$$\n",
    "\n",
    "Recall that when multiplying gaussians, the precisions add up and the means weighted by the precisions also add up:\n",
    "\n",
    "- $\\Sigma_c^{-1} = \\Sigma_a^{-1} + \\Sigma_b^{-1}$\n",
    "- $\\mu_c = \\Sigma_c(\\Sigma_a^{-1}\\mu_a +  \\Sigma_b^{-1} \\mu_b)$\n",
    "\n",
    "Thus:\n",
    "\n",
    "$$p(\\boldsymbol {w}; \\boldsymbol{\\mu}_0, \\Sigma_0) \\prod_{g=1}^G \\mathcal{N}(\\boldsymbol{w}; \\boldsymbol{\\mu}_g, \\Sigma_g) = \\mathcal{N}(\\boldsymbol{w}; \\mu, \\Sigma)$$\n",
    "\n",
    "Where each game precision, $\\Sigma_g^{-1}$ contains only 4 non-zero entries, the full precisions and means are:\n",
    "\n",
    "- $\\Sigma^{-1} = \\Sigma_0^{-1} + \\sum_{g=1}^G \\Sigma_g^{-1}  = \\Sigma_0^{-1} + \\tilde{\\Sigma}^{-1}$\n",
    "- $\\mu = \\Sigma(\\Sigma_0^{-1}\\mu_0 + \\sum_{g=1}^G \\Sigma_g^{-1}\\mu_g) = \\Sigma(\\Sigma_0^{-1}\\mu_0 + \\tilde{\\mu})$\n",
    "\n",
    "defining these further:\n",
    "\n",
    "$$\\tilde{\\mu}_i = \\sum_{g=1}^G t_g(\\delta(i-I_g) - \\delta(i-J_g))$$\n",
    "\n",
    "\n",
    "$$ [ \\tilde{\\Sigma}^{-1} ]_{ij}  = \\bigg\\{  \\begin{array}{c} \\sum_{g=1}^G \\delta(i-I_g) + \\delta(i-J_g) \\; \\; \\; for \\; i = j \\\\ \\sum_{g=1}^G \\delta(i-I_g)\\delta(j-J_g) + \\delta(i-J_g)\\delta(j-I_g) \\; \\; \\; for \\; i \\neq j  \\end{array} $$\n",
    "\n",
    "The conditional skills can be jointly sampled directly using the cholesky factorization."
   ]
  },
  {
   "cell_type": "markdown",
   "metadata": {},
   "source": [
    "#### For the conditional posterior of the performances (performance given skill difference), \n",
    "\n",
    "we get a truncated gaussian that needs no further analysis, however the question becomes how do we sample from it? The inverse transformation method, or rejection sampling are both possibilities."
   ]
  },
  {
   "cell_type": "markdown",
   "metadata": {},
   "source": [
    "## 3.4. Implementation <a name=\"implementation_gr\"></a>\n",
    "[Back to Top](#contents)"
   ]
  },
  {
   "cell_type": "code",
   "execution_count": 4,
   "metadata": {},
   "outputs": [],
   "source": [
    "def gibbs_sampler(total_iters, players=PLAYERS, games=GAMES):\n",
    "    num_players, num_games = len(players), len(games)\n",
    "    \n",
    "    skill_samples = np.zeros(shape=(num_players, total_iters))\n",
    "    prior_skill_vars = 0.5*np.ones(shape=(num_players))\n",
    "    skills = np.zeros(shape=(num_players))\n",
    "    \n",
    "    for i in range(total_iters):\n",
    "        ##### 1. SAMPLE p(performance_diffs | skills, outcomes)\n",
    "        p_diffs = np.zeros(shape=(num_games))  # one peformance diff for each game\n",
    "        for g in range(num_games):\n",
    "            skill_diff = skills[games.at[g, 'winner']] - skills[games.at[g, 'loser']]\n",
    "            \n",
    "            # rejection sampling. Only positive performance diffs are accepted\n",
    "            p_diffs[g] = skill_diff + np.random.randn()\n",
    "            while p_diffs[g] < 0:\n",
    "                p_diffs[g] = skill_diff + np.random.randn()\n",
    "                   \n",
    "        ##### 2. SAMPLE p(skills | performance_diffs)\n",
    "        skills_mean = np.zeros(shape=(num_players))\n",
    "        for p in range(num_players):\n",
    "            skills_mean[p] = np.dot(p_diffs, ((games['winner'] - p) == 0).astype(np.int32) - ((games['loser'] - p) == 0).astype(np.int32))            \n",
    "        \n",
    "        skills_precision = np.zeros(shape=(num_players, num_players))\n",
    "        for g in range(num_games):\n",
    "            skills_precision[games.at[g, 'winner'], games.at[g, 'winner']] += 1\n",
    "            skills_precision[games.at[g, 'loser'], games.at[g, 'loser']] += 1\n",
    "            skills_precision[games.at[g, 'winner'], games.at[g, 'loser']] -= 1\n",
    "            skills_precision[games.at[g, 'loser'], games.at[g, 'winner']] -= 1 \n",
    "        skills_precision = np.diag(1.0 /prior_skill_vars) + skills_precision\n",
    "        \n",
    "        # cholesky decomposition of the precision matrix so we can sample from a multivariate gaussian\n",
    "        chol = scipy.linalg.cho_factor(skills_precision) # (107x107 upper tri chol decomp, bower=false)\n",
    "        mu = scipy.linalg.cho_solve(c_and_lower=chol, b=skills_mean, check_finite=False) # solve C.mu=b, mu=107x0\n",
    "        sample = mu + scipy.linalg.solve_triangular(chol[0], np.random.randn(num_players, 1), check_finite=False).flatten() # 107x107\n",
    "        \n",
    "        skill_samples[:, i] = sample\n",
    "        \n",
    "    return skill_samples"
   ]
  },
  {
   "cell_type": "code",
   "execution_count": 5,
   "metadata": {},
   "outputs": [
    {
     "data": {
      "text/html": [
       "<div>\n",
       "<style scoped>\n",
       "    .dataframe tbody tr th:only-of-type {\n",
       "        vertical-align: middle;\n",
       "    }\n",
       "\n",
       "    .dataframe tbody tr th {\n",
       "        vertical-align: top;\n",
       "    }\n",
       "\n",
       "    .dataframe thead th {\n",
       "        text-align: right;\n",
       "    }\n",
       "</style>\n",
       "<table border=\"1\" class=\"dataframe\">\n",
       "  <thead>\n",
       "    <tr style=\"text-align: right;\">\n",
       "      <th>name</th>\n",
       "      <th>Rafael-Nadal</th>\n",
       "      <th>Juan-Monaco</th>\n",
       "      <th>Juan-Martin-Del-Potro</th>\n",
       "      <th>Mardy-Fish</th>\n",
       "      <th>Roger-Federer</th>\n",
       "      <th>Jo-Wilfried-Tsonga</th>\n",
       "      <th>Guillermo-Garcia-Lopez</th>\n",
       "      <th>Florian-Mayer</th>\n",
       "      <th>Milos-Raonic</th>\n",
       "      <th>Santiago-Giraldo</th>\n",
       "      <th>...</th>\n",
       "      <th>Juan-Sebastian-Cabal</th>\n",
       "      <th>Colin-Fleming</th>\n",
       "      <th>Santiago-Gonzalez</th>\n",
       "      <th>Marc-Lopez</th>\n",
       "      <th>Rohan-Bopanna</th>\n",
       "      <th>Michael-Kohlmann</th>\n",
       "      <th>Simon-Aspelin</th>\n",
       "      <th>Mikhail-Elgin</th>\n",
       "      <th>Robert-Lindstedt</th>\n",
       "      <th>Jean-Julien-Rojer</th>\n",
       "    </tr>\n",
       "  </thead>\n",
       "  <tbody>\n",
       "    <tr>\n",
       "      <th>count</th>\n",
       "      <td>1100.000000</td>\n",
       "      <td>1100.000000</td>\n",
       "      <td>1100.000000</td>\n",
       "      <td>1100.000000</td>\n",
       "      <td>1100.000000</td>\n",
       "      <td>1100.000000</td>\n",
       "      <td>1100.000000</td>\n",
       "      <td>1100.000000</td>\n",
       "      <td>1100.000000</td>\n",
       "      <td>1100.000000</td>\n",
       "      <td>...</td>\n",
       "      <td>1100.000000</td>\n",
       "      <td>1100.000000</td>\n",
       "      <td>1100.000000</td>\n",
       "      <td>1100.000000</td>\n",
       "      <td>1100.000000</td>\n",
       "      <td>1100.000000</td>\n",
       "      <td>1100.000000</td>\n",
       "      <td>1100.000000</td>\n",
       "      <td>1100.000000</td>\n",
       "      <td>1100.000000</td>\n",
       "    </tr>\n",
       "    <tr>\n",
       "      <th>mean</th>\n",
       "      <td>0.770247</td>\n",
       "      <td>0.140032</td>\n",
       "      <td>0.429435</td>\n",
       "      <td>0.318631</td>\n",
       "      <td>0.763503</td>\n",
       "      <td>0.456898</td>\n",
       "      <td>-0.177877</td>\n",
       "      <td>0.304470</td>\n",
       "      <td>0.234302</td>\n",
       "      <td>-0.004242</td>\n",
       "      <td>...</td>\n",
       "      <td>-0.530285</td>\n",
       "      <td>-0.207074</td>\n",
       "      <td>0.020681</td>\n",
       "      <td>-0.058819</td>\n",
       "      <td>-0.400624</td>\n",
       "      <td>-0.391625</td>\n",
       "      <td>-0.264319</td>\n",
       "      <td>-0.640169</td>\n",
       "      <td>-0.207885</td>\n",
       "      <td>-0.465401</td>\n",
       "    </tr>\n",
       "    <tr>\n",
       "      <th>std</th>\n",
       "      <td>0.157335</td>\n",
       "      <td>0.180520</td>\n",
       "      <td>0.172838</td>\n",
       "      <td>0.163340</td>\n",
       "      <td>0.155573</td>\n",
       "      <td>0.151095</td>\n",
       "      <td>0.207558</td>\n",
       "      <td>0.173053</td>\n",
       "      <td>0.202960</td>\n",
       "      <td>0.182973</td>\n",
       "      <td>...</td>\n",
       "      <td>0.559224</td>\n",
       "      <td>0.626409</td>\n",
       "      <td>0.549997</td>\n",
       "      <td>0.559068</td>\n",
       "      <td>0.458764</td>\n",
       "      <td>0.612322</td>\n",
       "      <td>0.615139</td>\n",
       "      <td>0.422038</td>\n",
       "      <td>0.595585</td>\n",
       "      <td>0.635637</td>\n",
       "    </tr>\n",
       "    <tr>\n",
       "      <th>min</th>\n",
       "      <td>0.238480</td>\n",
       "      <td>-0.494954</td>\n",
       "      <td>-0.148668</td>\n",
       "      <td>-0.257389</td>\n",
       "      <td>0.197142</td>\n",
       "      <td>-0.033601</td>\n",
       "      <td>-0.867789</td>\n",
       "      <td>-0.225023</td>\n",
       "      <td>-0.349068</td>\n",
       "      <td>-0.680744</td>\n",
       "      <td>...</td>\n",
       "      <td>-2.277377</td>\n",
       "      <td>-2.165007</td>\n",
       "      <td>-1.709387</td>\n",
       "      <td>-1.905029</td>\n",
       "      <td>-2.159212</td>\n",
       "      <td>-2.649226</td>\n",
       "      <td>-2.279531</td>\n",
       "      <td>-2.269710</td>\n",
       "      <td>-2.478515</td>\n",
       "      <td>-2.520014</td>\n",
       "    </tr>\n",
       "    <tr>\n",
       "      <th>25%</th>\n",
       "      <td>0.668623</td>\n",
       "      <td>0.021301</td>\n",
       "      <td>0.312614</td>\n",
       "      <td>0.205733</td>\n",
       "      <td>0.660405</td>\n",
       "      <td>0.360807</td>\n",
       "      <td>-0.318106</td>\n",
       "      <td>0.181390</td>\n",
       "      <td>0.097126</td>\n",
       "      <td>-0.125107</td>\n",
       "      <td>...</td>\n",
       "      <td>-0.903555</td>\n",
       "      <td>-0.617271</td>\n",
       "      <td>-0.328221</td>\n",
       "      <td>-0.425494</td>\n",
       "      <td>-0.689294</td>\n",
       "      <td>-0.805175</td>\n",
       "      <td>-0.675296</td>\n",
       "      <td>-0.907930</td>\n",
       "      <td>-0.613821</td>\n",
       "      <td>-0.894656</td>\n",
       "    </tr>\n",
       "    <tr>\n",
       "      <th>50%</th>\n",
       "      <td>0.769765</td>\n",
       "      <td>0.135373</td>\n",
       "      <td>0.423791</td>\n",
       "      <td>0.318799</td>\n",
       "      <td>0.757105</td>\n",
       "      <td>0.459975</td>\n",
       "      <td>-0.171035</td>\n",
       "      <td>0.304130</td>\n",
       "      <td>0.228290</td>\n",
       "      <td>-0.002910</td>\n",
       "      <td>...</td>\n",
       "      <td>-0.523937</td>\n",
       "      <td>-0.196179</td>\n",
       "      <td>0.026402</td>\n",
       "      <td>-0.068130</td>\n",
       "      <td>-0.398151</td>\n",
       "      <td>-0.369401</td>\n",
       "      <td>-0.273521</td>\n",
       "      <td>-0.638605</td>\n",
       "      <td>-0.201639</td>\n",
       "      <td>-0.452675</td>\n",
       "    </tr>\n",
       "    <tr>\n",
       "      <th>75%</th>\n",
       "      <td>0.879099</td>\n",
       "      <td>0.258505</td>\n",
       "      <td>0.547166</td>\n",
       "      <td>0.430371</td>\n",
       "      <td>0.865483</td>\n",
       "      <td>0.557926</td>\n",
       "      <td>-0.036984</td>\n",
       "      <td>0.429767</td>\n",
       "      <td>0.362528</td>\n",
       "      <td>0.112156</td>\n",
       "      <td>...</td>\n",
       "      <td>-0.162533</td>\n",
       "      <td>0.208166</td>\n",
       "      <td>0.371330</td>\n",
       "      <td>0.338329</td>\n",
       "      <td>-0.078774</td>\n",
       "      <td>0.023673</td>\n",
       "      <td>0.139172</td>\n",
       "      <td>-0.350467</td>\n",
       "      <td>0.191552</td>\n",
       "      <td>-0.015780</td>\n",
       "    </tr>\n",
       "    <tr>\n",
       "      <th>max</th>\n",
       "      <td>1.307759</td>\n",
       "      <td>0.847477</td>\n",
       "      <td>1.057989</td>\n",
       "      <td>0.896926</td>\n",
       "      <td>1.230947</td>\n",
       "      <td>0.915153</td>\n",
       "      <td>0.584695</td>\n",
       "      <td>0.853587</td>\n",
       "      <td>0.976627</td>\n",
       "      <td>0.536089</td>\n",
       "      <td>...</td>\n",
       "      <td>1.494616</td>\n",
       "      <td>1.697672</td>\n",
       "      <td>1.721419</td>\n",
       "      <td>1.523298</td>\n",
       "      <td>1.111420</td>\n",
       "      <td>1.545048</td>\n",
       "      <td>1.967370</td>\n",
       "      <td>0.766754</td>\n",
       "      <td>1.972214</td>\n",
       "      <td>1.531299</td>\n",
       "    </tr>\n",
       "  </tbody>\n",
       "</table>\n",
       "<p>8 rows × 107 columns</p>\n",
       "</div>"
      ],
      "text/plain": [
       "name   Rafael-Nadal  Juan-Monaco  Juan-Martin-Del-Potro   Mardy-Fish  \\\n",
       "count   1100.000000  1100.000000            1100.000000  1100.000000   \n",
       "mean       0.770247     0.140032               0.429435     0.318631   \n",
       "std        0.157335     0.180520               0.172838     0.163340   \n",
       "min        0.238480    -0.494954              -0.148668    -0.257389   \n",
       "25%        0.668623     0.021301               0.312614     0.205733   \n",
       "50%        0.769765     0.135373               0.423791     0.318799   \n",
       "75%        0.879099     0.258505               0.547166     0.430371   \n",
       "max        1.307759     0.847477               1.057989     0.896926   \n",
       "\n",
       "name   Roger-Federer  Jo-Wilfried-Tsonga  Guillermo-Garcia-Lopez  \\\n",
       "count    1100.000000         1100.000000             1100.000000   \n",
       "mean        0.763503            0.456898               -0.177877   \n",
       "std         0.155573            0.151095                0.207558   \n",
       "min         0.197142           -0.033601               -0.867789   \n",
       "25%         0.660405            0.360807               -0.318106   \n",
       "50%         0.757105            0.459975               -0.171035   \n",
       "75%         0.865483            0.557926               -0.036984   \n",
       "max         1.230947            0.915153                0.584695   \n",
       "\n",
       "name   Florian-Mayer  Milos-Raonic  Santiago-Giraldo        ...          \\\n",
       "count    1100.000000   1100.000000       1100.000000        ...           \n",
       "mean        0.304470      0.234302         -0.004242        ...           \n",
       "std         0.173053      0.202960          0.182973        ...           \n",
       "min        -0.225023     -0.349068         -0.680744        ...           \n",
       "25%         0.181390      0.097126         -0.125107        ...           \n",
       "50%         0.304130      0.228290         -0.002910        ...           \n",
       "75%         0.429767      0.362528          0.112156        ...           \n",
       "max         0.853587      0.976627          0.536089        ...           \n",
       "\n",
       "name   Juan-Sebastian-Cabal  Colin-Fleming  Santiago-Gonzalez   Marc-Lopez  \\\n",
       "count           1100.000000    1100.000000        1100.000000  1100.000000   \n",
       "mean              -0.530285      -0.207074           0.020681    -0.058819   \n",
       "std                0.559224       0.626409           0.549997     0.559068   \n",
       "min               -2.277377      -2.165007          -1.709387    -1.905029   \n",
       "25%               -0.903555      -0.617271          -0.328221    -0.425494   \n",
       "50%               -0.523937      -0.196179           0.026402    -0.068130   \n",
       "75%               -0.162533       0.208166           0.371330     0.338329   \n",
       "max                1.494616       1.697672           1.721419     1.523298   \n",
       "\n",
       "name   Rohan-Bopanna  Michael-Kohlmann  Simon-Aspelin  Mikhail-Elgin  \\\n",
       "count    1100.000000       1100.000000    1100.000000    1100.000000   \n",
       "mean       -0.400624         -0.391625      -0.264319      -0.640169   \n",
       "std         0.458764          0.612322       0.615139       0.422038   \n",
       "min        -2.159212         -2.649226      -2.279531      -2.269710   \n",
       "25%        -0.689294         -0.805175      -0.675296      -0.907930   \n",
       "50%        -0.398151         -0.369401      -0.273521      -0.638605   \n",
       "75%        -0.078774          0.023673       0.139172      -0.350467   \n",
       "max         1.111420          1.545048       1.967370       0.766754   \n",
       "\n",
       "name   Robert-Lindstedt  Jean-Julien-Rojer  \n",
       "count       1100.000000        1100.000000  \n",
       "mean          -0.207885          -0.465401  \n",
       "std            0.595585           0.635637  \n",
       "min           -2.478515          -2.520014  \n",
       "25%           -0.613821          -0.894656  \n",
       "50%           -0.201639          -0.452675  \n",
       "75%            0.191552          -0.015780  \n",
       "max            1.972214           1.531299  \n",
       "\n",
       "[8 rows x 107 columns]"
      ]
     },
     "metadata": {},
     "output_type": "display_data"
    },
    {
     "name": "stdout",
     "output_type": "stream",
     "text": [
      "Wall time: 3min 25s\n"
     ]
    }
   ],
   "source": [
    "%%time\n",
    "skill_samples = gibbs_sampler(1100)\n",
    "skill_samples = pd.DataFrame(data=skill_samples.T, columns=PLAYERS['name'])\n",
    "display(skill_samples.describe()) # there are tot_iters rows and each row is a person"
   ]
  },
  {
   "cell_type": "markdown",
   "metadata": {},
   "source": [
    "## 3.5. Iterations and Autocorrelation <a name=\"iterations_and_autocorrelation\"></a>\n",
    "[Back to Top](#contents)"
   ]
  },
  {
   "cell_type": "code",
   "execution_count": 6,
   "metadata": {},
   "outputs": [],
   "source": [
    "def plot_skill_vs_iter(skill_samples, players):\n",
    "    fig, ax = plt.subplots(nrows=1, ncols=1, figsize=(11, 4))  # preferred to plt.plot\n",
    "    \n",
    "    # use pandas to plot things... it's better than matplotlib\n",
    "    skill_samples[players].plot(ax=ax, alpha=0.5)\n",
    "    ax.set_xlabel('Iterations')\n",
    "    ax.set_ylabel('Player Skill')"
   ]
  },
  {
   "cell_type": "code",
   "execution_count": 7,
   "metadata": {},
   "outputs": [
    {
     "data": {
      "image/png": "[encoded data removed]",
      "text/plain": [
       "<Figure size 792x288 with 1 Axes>"
      ]
     },
     "metadata": {
      "needs_background": "light"
     },
     "output_type": "display_data"
    }
   ],
   "source": [
    "player_names=['Rafael-Nadal', 'Roger-Federer', 'Rohan-Bopanna']\n",
    "plot_skill_vs_iter(skill_samples, player_names)"
   ]
  },
  {
   "cell_type": "code",
   "execution_count": 11,
   "metadata": {},
   "outputs": [],
   "source": [
    "def plot_autocorrelations(skill_samples, players):\n",
    "    max_lag=10    \n",
    "    autocor = pd.DataFrame(columns=players, index=range(max_lag))\n",
    "    \n",
    "    for p in players:\n",
    "        for i in range(max_lag):\n",
    "            autocor.at[i, p] = pd.Series.autocorr(pd.Series(skill_samples[p].values), lag=i)\n",
    "     \n",
    "    autocor.plot()"
   ]
  },
  {
   "cell_type": "code",
   "execution_count": 12,
   "metadata": {},
   "outputs": [
    {
     "data": {
      "image/png": "[encoded data removed]",
      "text/plain": [
       "<Figure size 432x288 with 1 Axes>"
      ]
     },
     "metadata": {
      "needs_background": "light"
     },
     "output_type": "display_data"
    }
   ],
   "source": [
    "plot_autocorrelations(skill_samples, player_names)"
   ]
  },
  {
   "cell_type": "code",
   "execution_count": 10,
   "metadata": {},
   "outputs": [],
   "source": [
    "def gaussian_distribution(x, mu, s):\n",
    "    exponent = -0.5*((x-mu)/s)**2\n",
    "    Z = (s * np.sqrt(2*np.pi))\n",
    "    return np.exp(exponent) / Z"
   ]
  },
  {
   "cell_type": "markdown",
   "metadata": {},
   "source": [
    "# 4. Message Passing <a name=\"message_passing\"></a>"
   ]
  },
  {
   "cell_type": "markdown",
   "metadata": {},
   "source": [
    "## 4.1. Inference and Factor Graphs <a name=\"inference_and_factor_graphs\"></a>\n",
    "[Back to Top](#contents)"
   ]
  },
  {
   "cell_type": "markdown",
   "metadata": {},
   "source": [
    "Probability distributions often have conditional independence, and therefore, can be written in graphical form. Computing marginals of said distribution can be made much more efficient by taking advantage of the graphical model, simply by rearranging the order of summations and multiplications required."
   ]
  },
  {
   "cell_type": "markdown",
   "metadata": {},
   "source": [
    "We can write any joint distribution over a set of variables in the form of a product of factors:\n",
    "\n",
    "$$ p(\\boldsymbol{x}) = \\prod_s f_s(\\boldsymbol{x}_s) $$\n",
    "\n",
    "where $\\boldsymbol{x}_s$ denotes a subset of the variables. Each factor $f_s$ is a function of this set of variables. For example consider the graph:\n",
    "\n",
    "![FactorGraph](Figures/FactorGraphExample.PNG)\n",
    "\n",
    "This has a factorisation of\n",
    "\n",
    "$$p(\\boldsymbol{x}) = f_a(x_1, x_2)f_b(x_1, x_2)f_c(x_2, x_3)f_d(x_3)$$"
   ]
  },
  {
   "cell_type": "markdown",
   "metadata": {},
   "source": [
    "We can convert a directed graph to a factor graph by simply creating variable\n",
    "nodes in the factor graph corresponding to the nodes of the directed graph, and then\n",
    "create factor nodes corresponding to the conditional distributions, and then finally\n",
    "add the appropriate links. There can be multiple factor graphs all of which\n",
    "correspond to the same directed graph.\n",
    "\n",
    "![FactorGraph2](Figures/FactorGraphExample2.PNG)\n",
    "\n",
    "The directed graph here corresponds to the factorisation:\n",
    "\n",
    "$$p(x_1, x_2, x_3) = p(x_1)p(x_2)p(x_3|x_1, x_2)$$\n",
    "\n",
    "And the factor graphs have factors equal to:\n",
    "$$b) \\;\\; f(x_1, x_2, x_3) = p(x_1)p(x_2)p(x_3|x_1, x_2)$$\n",
    "$$c) \\;\\; f_a(x_1) = p(x_1), \\; f_b(x_2) = p(x_2), \\; f_c(x_1, x_2, x_3) = p(x_3|x_1, x_2)$$"
   ]
  },
  {
   "cell_type": "markdown",
   "metadata": {},
   "source": [
    "## 4.2. The Sum-Product Algorithm <a name=\"the_sum_product_algorithm\"></a>\n",
    "[Back to Top](#contents)"
   ]
  },
  {
   "cell_type": "markdown",
   "metadata": {},
   "source": [
    "The Sum-Product algorithm is an exact inference method to compute node marginals in factor graphs. If the variables are discrete then marginalisation corresponds to preforming sums, whereas if we are working with linear gaussians then integration is used (e.g. linear dynamical systems). Note that there is a similar algorithm for directed graphs called \"belief propagation\", however, this is actually a special case of the sum-product algorithm, and so converting to a factor graph is better in general.\n",
    "\n",
    "The sum-product algorithm can conveniently be interpreted as the passing of \"messages\". In general there are two types of message, which we will show with the examples below:\n",
    "\n",
    "![MessagePassing](Figures/MessagePassing.png)\n",
    "\n",
    "- **Messages from factors to variables** (left figure):  &nbsp; &nbsp; &nbsp; $m_{f\\rightarrow x}(x)$ &nbsp; &nbsp; &nbsp; To evaluate the message from a factor node, evaluate the **sum** of all messages coming into the factor (i.e. from variables), except the message going to the variable of interest.\n",
    "\n",
    "$$m_{f_s \\rightarrow x}(x) = \\sum_m^M m_{x_m \\rightarrow f_s}(x_m)$$\n",
    "\n",
    "\n",
    "- **Messages from variables to factors** (right figure):  &nbsp; &nbsp; &nbsp; $m_{x \\rightarrow f}(x)$ &nbsp; &nbsp; &nbsp; To evaluate the message from a variable, evaluate the **product** of all messages coming into the variable (i.e. from factors), execpt the message going to the factor of interest.\n",
    "\n",
    "$$m_{x_m \\rightarrow f_s}(x_m) = \\prod_l^L m_{f_l \\rightarrow x_m}(x_m)$$\n",
    "\n",
    "Each message comprises a set of K values (or a distribution if working with continuous variables), one for each choice of x_n, and so the product of two messages should be interpreted as the point-wise multiplication of the elements of the two messages to give another set of K values. Note, $F_s(x, X_s)$ represents the product of all the factors in the group associated with f_s, and similarly, $G_m(x_m, X_{sm})$is given by a product of terms $F_l(x, X_ml)$ each associated with one of the factor nodes $f_l$ that is linked to node $x_m$\n",
    "\n",
    "We can derive expressions for the marginals of each node simply by finding the product of all incoming messages to that node:\n",
    "\n",
    "$$p(x) = \\prod_{s \\in neighbours(x)} m_{f_s \\rightarrow x}(x)$$"
   ]
  },
  {
   "cell_type": "markdown",
   "metadata": {},
   "source": [
    "An example is given below to illustrate this: \n",
    "\n",
    "![SumProduct](Figures/SumProduct.png)\n",
    "\n",
    "The graph above has an unnormalised joint distribution given by $\\tilde{p}(\\boldsymbol{x}) = f_a(x_1, x_2)f_b(x_2, x_3)f_c(x_2,x_4)$. In order to apply the sum-product algorithm to the graph we first designate a \"root node\" (it doesnt matter which one you choose) and then calculate the messages from the leaf nodes to the root node (fig. b) and then from the root node to the leaf nodes (fig c).\n",
    "\n",
    "- **leaf to root messages**\n",
    "$$m_{x_1 \\rightarrow f_a}(x_1) = 1$$\n",
    "$$m_{f_a \\rightarrow x_2}(x_2) = \\sum_{x_1} f_a(x_1, x_2)$$\n",
    "$$m_{x_4 \\rightarrow f_c}(x_4) = 1$$\n",
    "$$m_{f_c \\rightarrow x_2}(x_2) =  \\sum_{x_4} f_c(x_2, x_4)$$\n",
    "$$m_{x_2 \\rightarrow f_b}(x_2) =  m_{f_a \\rightarrow x_2}(x_2)m_{f_c \\rightarrow x_2}(x_2)$$\n",
    "$$m_{f_b \\rightarrow x_3}(x_3) =  \\sum_{x_2} f_b(x_2, x_3)m_{x_2 \\rightarrow f_b}(x_2)$$\n",
    "\n",
    "- **root to leaf messages**\n",
    "$$m_{x_3 \\rightarrow f_b}(x_3) = 1$$\n",
    "$$m_{f_b \\rightarrow x_2}(x_2) = \\sum_{x_3} f_b(x_2, x_3)$$\n",
    "$$m_{x_2 \\rightarrow f_a}(x_2) = m_{f_b \\rightarrow x_2}(x_2)m_{f_c \\rightarrow x_2}(x_2)$$\n",
    "$$m_{f_a \\rightarrow x_1}(x_1) =  \\sum_{x_2} f_a(x_1, x_2)m_{x_2 \\rightarrow f_a}(x_2)$$\n",
    "$$m_{x_2 \\rightarrow f_c}(x_2) =  m_{f_a \\rightarrow x_2}(x_2)m_{f_b \\rightarrow x_2}(x_2)$$\n",
    "$$m_{f_c \\rightarrow x_4}(x_4) =  \\sum_{x_2} f_c(x_2, x_4)m_{x_2 \\rightarrow f_c}(x_2)$$"
   ]
  },
  {
   "cell_type": "markdown",
   "metadata": {},
   "source": [
    "Note that each message has passed once in each direction across each link in the graph, and that the normalisation constant Z need only be evaluated once (using any convenient note). If the factor graph was derived from a directed graph, then the joint distribution is already correctly normalized, and so the marginals obtained by the sum-product algorithm will similarly be normalized correctly. However, if we started from an undirected graph, then in general there will be an unknown normalization coefficient 1/Z.\n",
    "\n",
    "We can now calculate the marginal $\\tilde{p}(x_2) = m_{f_a \\rightarrow x_2}(x_2) m_{f_b \\rightarrow x_2}(x_2) m_{f_c \\rightarrow x_2}(x_2)$\n",
    "\n",
    "$$\\tilde{p}(x_2) = \\left[ \\sum_{x_1} f_a(x_1, x_2) \\right]    \\left[ \\sum_{x_3} f_b(x_2, x_3) \\right]    \\left[ \\sum_{x_4} f_c(x_2, x_4) \\right]$$\n",
    "$$ = \\sum_{x_1} \\sum_{x_2} \\sum_{x_3}  f_a(x_1, x_2) f_b(x_2, x_3) f_c(x_2, x_4)$$\n",
    "$$ = \\sum_{x_1} \\sum_{x_2} \\sum_{x_3} \\tilde{p}(\\boldsymbol{x}) $$\n",
    "\n",
    "If some nodes in the graph are observed, then the corresponding variables are simply clamped to their observed values and there is no summation."
   ]
  },
  {
   "cell_type": "markdown",
   "metadata": {},
   "source": [
    "## 4.3. Message Passing in TrueSkill <a name=\"message_passing_in_true_skill\"></a>\n",
    "[Back to Top](#contents)"
   ]
  },
  {
   "cell_type": "markdown",
   "metadata": {},
   "source": [
    "In TrueSkill, the factor graph that is relevent to the directed graph given in section 1.1. is\n",
    "\n",
    "![TrueSkillFactorGraph](Figures/FactorGraph.JPG)\n",
    "\n",
    "We can easily read off what the factors in this graph are by looking at the directed graph:\n",
    "\n",
    "- **Prior factors** $\\;\\;\\; f_i(w_i) = \\mathcal{N}(w_i; \\mu_0, \\sigma_0^2)$\n",
    "- **Game factors** $\\;\\;\\; h_g(w_{I_g}, w_{J_g}, t_g) = \\mathcal{N}(t_g; w_{I_g}- w_{J_g}, 1)$\n",
    "- **Outcome factors** $\\;\\;\\; k_g(t_g, y_g) = \\delta(y_g - sign(t_g))$\n",
    "\n",
    "Note however, this TrueSkill graph isnt a tree and therefore we cannot do exact inference. We can, however, do iterative inference. Additionally, some of the messages don't have a standard form, and therefore we need to make some approximations. The whole process can be summarised as below:"
   ]
  },
  {
   "cell_type": "markdown",
   "metadata": {},
   "source": [
    "![TrueSkillMP](Figures/TrueSKillMP.png)"
   ]
  },
  {
   "cell_type": "markdown",
   "metadata": {},
   "source": [
    "Where the derivations for each step is given by:\n",
    "\n",
    "![TrueSkillMPEquations](Figures/TrueSKillMPEquations.png)"
   ]
  },
  {
   "cell_type": "markdown",
   "metadata": {},
   "source": [
    "## 4.4. Approximating Performance Marginals <a name=\"approximating_performance_marginals\"></a>\n",
    "[Back to Top](#contents)"
   ]
  },
  {
   "cell_type": "markdown",
   "metadata": {},
   "source": [
    "The approximation of the performance marginals, $q^{\\tau+1}(t_g) = Approx(m^{\\tau}_{h_g \\rightarrow t_g}(t_g)m_{k_g \\rightarrow t_g}(t_g))$ is needed due to the game to performance message, $m_{k_g \\rightarrow t_g}(t_g) = \\delta(y_g-sign(t_g))$ effectively truncating the gaussian message sent in the message $m^{\\tau}_{h_g \\rightarrow t_g}(t_g)$. Thus, in order to keep the approximation of $p(t_g)$ as a gaussian, we approximate the product of these messages to get the approximate marginal $q(t_g)$. This is done by moment matching, which is illustrated below:\n",
    "\n",
    "![MomentMatching](Figures/MomentMatching.JPG)"
   ]
  },
  {
   "cell_type": "markdown",
   "metadata": {},
   "source": [
    "Moment matching is simply done by emperically finding the mean and variance of the truncated gaussian and then creating a new gaussian with the moments found by doing this.\n",
    "\n",
    "Recall that the moments of a probability distribution are given by:\n",
    "\n",
    "$$\\mathbb{E}_{p(t)}[t^n] = \\int^\\infty_{-\\infty}t^n p(t) dt$$\n",
    "\n",
    "where $p(t)$ is given by\n",
    "\n",
    "$$p(t) = \\frac{1}{Z_t} \\delta(t-sign(y))\\mathcal{N}(t; \\mu, \\sigma^2)$$\n",
    "\n",
    "where \n",
    "$$Z_t = \\int^\\infty_{-\\infty} \\delta(t-sign(y))\\mathcal{N}(t; \\mu, \\sigma^2) dt =  \\int^0_{-\\infty} \\mathcal{N}(t; -y\\mu, \\sigma^2) dt =  \\int^{\\frac{y\\mu}{\\sigma}}_{-\\infty} \\mathcal{N}(t; 0, 1) dt = \\Phi \\left(\\frac{y\\mu}{\\sigma} \\right) $$\n",
    "\n",
    "Thus we are trying to solve\n",
    "\n",
    "- $\\mathbb{E}_{p(t)}[t] = \\frac{1}{Z_t} \\int^\\infty_{-\\infty}t  \\delta(t-sign(y))\\mathcal{N}(t; \\mu, \\sigma^2) dt =  \\frac{1}{Z_t} \\int^\\infty_0 t  \\mathcal{N}(t; y \\mu, \\sigma^2) dt$\n",
    "- $\\mathbb{E}_{p(t)}[t^2] = \\frac{1}{Z_t} \\int^\\infty_{-\\infty} t^2  \\delta(t-sign(y))\\mathcal{N}(t; \\mu, \\sigma^2) dt = \\frac{1}{Z_t} \\int^\\infty_0 t^2  \\mathcal{N}(t; y \\mu, \\sigma^2) dt$"
   ]
  },
  {
   "cell_type": "markdown",
   "metadata": {},
   "source": [
    "**For the first moment**, a key insight is that we can take the two different forms of the proportionality constant above to get the mean, simply by differentiating wrt $\\mu$:\n",
    "\n",
    "$$(1) \\;\\;\\;\\;\\;\\; \\frac{\\partial}{\\partial \\mu} Z_t =  \\int^0_{-\\infty} \\frac{\\partial}{\\partial \\mu} \\mathcal{N}(t; -y\\mu, \\sigma^2) dt $$\n",
    "\n",
    "$$ = \\int^0_{-\\infty} -y\\frac{t+y\\mu}{\\sigma^2} \\mathcal{N}(t; -y\\mu, \\sigma^2) dt $$\n",
    "\n",
    "$$ = \\frac{yZ_t}{ \\sigma^2} \\int^\\infty_{-\\infty} (t-y\\mu) p(t) dt $$\n",
    "\n",
    "noting that $y^2 = 1$, and that the integral above is the expectation $\\mathbb{E}_{p(x)}[t-y\\mu]$\n",
    "\n",
    "$$\\frac{\\partial}{\\partial \\mu} Z_t =  \\frac{yZ_t }{\\sigma^2}\\mathbb{E}_{p(x)}[t] - \\frac{\\mu Z_t }{\\sigma^2} $$\n",
    "\n",
    "$$(2) \\;\\;\\;\\;\\;\\; \\frac{\\partial}{\\partial \\mu} Z_t = \\frac{\\partial}{\\partial \\mu} \\Phi(\\frac{y\\mu}{\\sigma}) = y \\mathcal{N}(y\\mu; 0, \\sigma^2) = \\frac{y}{\\sigma} \\mathcal{N}(\\frac{y\\mu}{\\sigma}; 0, 1)$$\n",
    "\n",
    "Putting these together gives us an expression for $\\mathbb{E}_{p(x)}[t]$:\n",
    "\n",
    "$$y\\mathbb{E}_{p(x)}[t] - \\mu = \\frac{y\\sigma}{Z_t} \\mathcal{N}(\\frac{y\\mu}{\\sigma}; 0, 1) $$\n",
    "\n",
    "Noting that $y^{-1} = y$ we get:\n",
    "\n",
    "$$\\mathbb{E}_{p(x)}[t] = y\\mu + \\frac{\\sigma}{Z_t} \\mathcal{N}(\\frac{y\\mu}{\\sigma}; 0, 1) $$"
   ]
  },
  {
   "cell_type": "markdown",
   "metadata": {},
   "source": [
    "**For the second moment** we can use a similar trick by differentiating $Z_t$ again wrt $\\mu$. \n",
    "\n",
    "$$(1) \\;\\;\\;\\;\\;\\; \\frac{\\partial^2}{\\partial \\mu^2} Z_t = \\frac{\\partial}{\\partial \\mu} \\int^0_{-\\infty} -y \\frac{t+y\\mu}{\\sigma^2} \\mathcal{N}(t; -y\\mu, \\sigma^2) dt = \\frac{\\partial}{\\partial \\mu} \\int^\\infty_{0} y \\frac{t-y\\mu}{\\sigma^2} \\mathcal{N}(t; y\\mu, \\sigma^2) dt $$\n",
    "\n",
    "$$= \\frac{y}{\\sigma^2} \\int^\\infty_{0}  t \\frac{\\partial}{\\partial \\mu} \\mathcal{N}(t; y\\mu, \\sigma^2) dt - \\frac{y^2}{\\sigma^2} \\int^\\infty_{0}  \\frac{\\partial}{\\partial \\mu} \\mu \\mathcal{N}(t; y\\mu, \\sigma^2) dt$$\n",
    "\n",
    "$$= \\frac{y}{\\sigma^2} \\int^\\infty_0 y t\\frac{t-y\\mu}{\\sigma^2} \\mathcal{N}(t; y\\mu, \\sigma^2) dt - \\frac{1}{\\sigma^2} \\int^\\infty_{0} \\mathcal{N}(t; y\\mu, \\sigma^2)  + y\\mu \\frac{t-y\\mu}{\\sigma^2} \\mathcal{N}(t; y\\mu, \\sigma^2) dt$$\n",
    "\n",
    "Substituting in the results from $\\frac{\\partial Z_t}{\\partial \\mu}$, and $Z_t$ derived above, we get"
   ]
  },
  {
   "cell_type": "markdown",
   "metadata": {},
   "source": [
    "$$= \\frac{y^2}{\\sigma^4} \\int^\\infty_0 t (t-y\\mu) \\mathcal{N}(t; y\\mu, \\sigma^2) dt - \\frac{1}{\\sigma^2} (Z_t  + \\mu \\frac{\\partial Z_t}{\\partial \\mu})$$\n"
   ]
  },
  {
   "cell_type": "markdown",
   "metadata": {},
   "source": [
    "## 4.5. Implementation <a name=\"implementation_mp\"></a>\n",
    "[Back to Top](#contents)"
   ]
  },
  {
   "cell_type": "code",
   "execution_count": 11,
   "metadata": {},
   "outputs": [
    {
     "ename": "IndentationError",
     "evalue": "unexpected indent (<ipython-input-11-d362cfe33fb2>, line 3)",
     "output_type": "error",
     "traceback": [
      "\u001b[1;36m  File \u001b[1;32m\"<ipython-input-11-d362cfe33fb2>\"\u001b[1;36m, line \u001b[1;32m3\u001b[0m\n\u001b[1;33m    NumPlayers = size(W,1);            % number of players\u001b[0m\n\u001b[1;37m    ^\u001b[0m\n\u001b[1;31mIndentationError\u001b[0m\u001b[1;31m:\u001b[0m unexpected indent\n"
     ]
    }
   ],
   "source": [
    "function [Ms_container, Ps_container] = MPA(totIters, W, G, param1, param2)\n",
    "\n",
    "    NumPlayers = size(W,1);            % number of players\n",
    "    NumGames = size(G,1);            % number of games in 2011 season \n",
    "\n",
    "    psi = inline('normpdf(x)./normcdf(x)');\n",
    "    lambda = inline('(normpdf(x)./normcdf(x)).*( (normpdf(x)./normcdf(x)) + x)');\n",
    "    pv = 0.5;            % prior skill variance (prior mean is always 0)\n",
    "\n",
    "    % initialize matrices of skill marginals - means and precisions\n",
    "    Ms = nan(NumPlayers,1);\n",
    "    Ps = nan(NumPlayers,1);\n",
    "    % initialize matrices of game to skill messages - means and precisions\n",
    "    Mgs = param1.*ones(NumGames,2);        Pgs = param2.*ones(NumGames,2); % (originally zeros(NumGames, 2))\n",
    "\n",
    "    % allocate matrices of skill to game messages - means and precisions\n",
    "    Msg = nan(NumGames,2);             Psg = nan(NumGames,2);\n",
    "    \n",
    "    % initialize Containers for marginal skills\n",
    "    temp_Ms_container = nan(numel(Ms(:, 1)), totIters); %creates a column for each iter\n",
    "    temp_Ps_container = nan(numel(Ps(:, 1)), totIters); %rows are player number\n",
    "    \n",
    "    %iter = 1;      % max_belief_change = 1;\n",
    "    for iter = 1:totIters % && (max_belief_change < tol)\n",
    "      % (1) compute marginal skills \n",
    "      for p=1:NumPlayers\n",
    "        % precision first because it is needed for the mean update\n",
    "        Ps(p) = 1/pv + sum(Pgs(G==p)); \n",
    "        Ms(p) = sum(Pgs(G==p).*Mgs(G==p))./Ps(p);\n",
    "      end\n",
    "\n",
    "      % (2) compute skill to game messages\n",
    "      % precision first because it is needed for the mean update\n",
    "      Psg = Ps(G) - Pgs;\n",
    "      Msg = (Ps(G).*Ms(G) - Pgs.*Mgs)./Psg;\n",
    "\n",
    "      % (3) compute game to performance messages\n",
    "      vgt = 1 + sum(1./Psg, 2);\n",
    "      mgt = Msg(:,1) - Msg(:,2); % player 1 always wins the way we store data\n",
    "\n",
    "      % (4) approximate the marginal on performance differences\n",
    "      Mt = mgt + sqrt(vgt).*psi(mgt./sqrt(vgt));\n",
    "      Pt = 1./( vgt.*( 1-lambda(mgt./sqrt(vgt)) ) );\n",
    "\n",
    "      % (5) compute performance to game messages\n",
    "      ptg = Pt - 1./vgt;\n",
    "      mtg = (Mt.*Pt - mgt./vgt)./ptg;   \n",
    "\n",
    "      % (6) compute game to skills messages\n",
    "      Pgs = 1./(1 + repmat(1./ptg,1,2) + 1./Psg(:,[2 1]));\n",
    "      Mgs = [mtg, -mtg] + Msg(:,[2 1]);\n",
    "      \n",
    "      temp_Ms_container(:, iter) = Ms;\n",
    "      temp_Ps_container(:, iter) = Ps;\n",
    "      %iter = iter+1;\n",
    "    end\n",
    "    Ms_container = temp_Ms_container;\n",
    "    Ps_container = temp_Ps_container;\n",
    "end\n"
   ]
  },
  {
   "cell_type": "code",
   "execution_count": null,
   "metadata": {},
   "outputs": [],
   "source": []
  },
  {
   "cell_type": "code",
   "execution_count": null,
   "metadata": {},
   "outputs": [],
   "source": []
  },
  {
   "cell_type": "code",
   "execution_count": null,
   "metadata": {},
   "outputs": [],
   "source": []
  }
 ],
 "metadata": {
  "kernelspec": {
   "display_name": "Python 3",
   "language": "python",
   "name": "python3"
  },
  "language_info": {
   "codemirror_mode": {
    "name": "ipython",
    "version": 3
   },
   "file_extension": ".py",
   "mimetype": "text/x-python",
   "name": "python",
   "nbconvert_exporter": "python",
   "pygments_lexer": "ipython3",
   "version": "3.6.1"
  }
 },
 "nbformat": 4,
 "nbformat_minor": 2
}
